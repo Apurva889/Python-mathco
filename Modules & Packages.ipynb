{
 "cells": [
  {
   "cell_type": "markdown",
   "id": "6e7f7329",
   "metadata": {},
   "source": [
    "### Modules & Packages"
   ]
  },
  {
   "cell_type": "markdown",
   "id": "edca5b4b",
   "metadata": {},
   "source": [
    "A Python module is a file containing Python definitions and statements. \n",
    "A module can define functions, classes, and variables. \n",
    "A module can also include runnable code. \n",
    "Grouping related code into a module makes the code easier to understand and use. \n",
    "It also makes the code logically organized."
   ]
  },
  {
   "cell_type": "markdown",
   "id": "3f7d2151",
   "metadata": {},
   "source": [
    "Packages allow you to organize modules in the hierarchical structure.\n",
    "\n",
    "The way Python organizes packages and modules like the Operating System structures the folders and files."
   ]
  },
  {
   "cell_type": "markdown",
   "id": "46b3b183",
   "metadata": {},
   "source": [
    "#### .py extension\n",
    "#### the module contains,\n",
    "  - Definitions and implementation of classes\n",
    "  \n",
    "  - variables\n",
    "    \n",
    "  - Functions that can be used inside another program  "
   ]
  },
  {
   "cell_type": "markdown",
   "id": "b8bc97d4",
   "metadata": {},
   "source": [
    "##### To import a package, you use the import statement like this:\n",
    "\n",
    "import package.module\n",
    "\n",
    "##### To access an object from a module that belongs to a package, you use the dot notation:\n",
    "\n",
    "package.module.function\n",
    "\n",
    "##### To make the code more concise, you can use the following statement to import a function \n",
    "##### from a module:\n",
    "\n",
    "from <module> import <function>"
   ]
  },
  {
   "cell_type": "code",
   "execution_count": 1,
   "id": "35265a69",
   "metadata": {},
   "outputs": [],
   "source": [
    "#### Create a module"
   ]
  },
  {
   "cell_type": "code",
   "execution_count": 2,
   "id": "d7d4ab22",
   "metadata": {},
   "outputs": [],
   "source": [
    "#### create a file with extension .py\n",
    "### create mymodule.py"
   ]
  },
  {
   "cell_type": "code",
   "execution_count": 15,
   "id": "0e18e9a7",
   "metadata": {},
   "outputs": [
    {
     "ename": "SyntaxError",
     "evalue": "invalid syntax (mymodule.py, line 3)",
     "output_type": "error",
     "traceback": [
      "Traceback \u001b[1;36m(most recent call last)\u001b[0m:\n",
      "  File \u001b[0;32m\"C:\\Users\\ApurvaVijaySawant\\anaconda3\\lib\\site-packages\\IPython\\core\\interactiveshell.py\"\u001b[0m, line \u001b[0;32m3457\u001b[0m, in \u001b[0;35mrun_code\u001b[0m\n    exec(code_obj, self.user_global_ns, self.user_ns)\n",
      "\u001b[1;36m  File \u001b[1;32m\"C:\\Users\\ApurvaVijaySawant\\AppData\\Local\\Temp\\ipykernel_7528\\749618380.py\"\u001b[1;36m, line \u001b[1;32m2\u001b[1;36m, in \u001b[1;35m<module>\u001b[1;36m\u001b[0m\n\u001b[1;33m    import mymodule\u001b[0m\n",
      "\u001b[1;36m  File \u001b[1;32m\"C:\\Users\\ApurvaVijaySawant\\Untitled Folder\\mymodule.py\"\u001b[1;36m, line \u001b[1;32m3\u001b[0m\n\u001b[1;33m    person=(\"name\":\"Ravi\",\"age\":30,\"country\":\"India\")\u001b[0m\n\u001b[1;37m                  ^\u001b[0m\n\u001b[1;31mSyntaxError\u001b[0m\u001b[1;31m:\u001b[0m invalid syntax\n"
     ]
    }
   ],
   "source": [
    "# using 'import'keyword to import module\n",
    "import mymodule\n",
    "mymodule.person\n"
   ]
  },
  {
   "cell_type": "code",
   "execution_count": 12,
   "id": "2a3af9c8",
   "metadata": {},
   "outputs": [
    {
     "data": {
      "text/plain": [
       "3"
      ]
     },
     "execution_count": 12,
     "metadata": {},
     "output_type": "execute_result"
    }
   ],
   "source": [
    "# create newmodule.py\n",
    "import newmodule\n",
    "newmodule.add(1,2)"
   ]
  },
  {
   "cell_type": "code",
   "execution_count": 13,
   "id": "6e2cd17b",
   "metadata": {},
   "outputs": [
    {
     "data": {
      "text/plain": [
       "2"
      ]
     },
     "execution_count": 13,
     "metadata": {},
     "output_type": "execute_result"
    }
   ],
   "source": [
    "newmodule.sub(5,3)"
   ]
  },
  {
   "cell_type": "code",
   "execution_count": 14,
   "id": "8790c115",
   "metadata": {},
   "outputs": [
    {
     "data": {
      "text/plain": [
       "15"
      ]
     },
     "execution_count": 14,
     "metadata": {},
     "output_type": "execute_result"
    }
   ],
   "source": [
    "newmodule.mul(5,3)"
   ]
  },
  {
   "cell_type": "code",
   "execution_count": null,
   "id": "6ca3b8e6",
   "metadata": {},
   "outputs": [],
   "source": [
    "# create mymodule1\n"
   ]
  },
  {
   "cell_type": "code",
   "execution_count": null,
   "id": "b23ed1b0",
   "metadata": {},
   "outputs": [],
   "source": []
  },
  {
   "cell_type": "code",
   "execution_count": null,
   "id": "b3eacde3",
   "metadata": {},
   "outputs": [],
   "source": []
  },
  {
   "cell_type": "code",
   "execution_count": null,
   "id": "33323fae",
   "metadata": {},
   "outputs": [],
   "source": [
    "# instead of dictionary can use list object\n",
    "# create module 'module2.py' and create list object instead of dictionary\n"
   ]
  },
  {
   "cell_type": "code",
   "execution_count": null,
   "id": "dfb981e9",
   "metadata": {},
   "outputs": [],
   "source": [
    "### Built - in - Modules"
   ]
  },
  {
   "cell_type": "code",
   "execution_count": null,
   "id": "4dda17b2",
   "metadata": {},
   "outputs": [],
   "source": []
  },
  {
   "cell_type": "code",
   "execution_count": null,
   "id": "5e9d1e54",
   "metadata": {},
   "outputs": [],
   "source": [
    "# math \n",
    "# statistics\n",
    "# os\n",
    "# random"
   ]
  },
  {
   "cell_type": "code",
   "execution_count": 1,
   "id": "21fe7e75",
   "metadata": {},
   "outputs": [
    {
     "data": {
      "text/plain": [
       "4.0"
      ]
     },
     "execution_count": 1,
     "metadata": {},
     "output_type": "execute_result"
    }
   ],
   "source": [
    "#math\n",
    "import math\n",
    "math.sqrt(16)\n"
   ]
  },
  {
   "cell_type": "code",
   "execution_count": 2,
   "id": "e8c8cb2d",
   "metadata": {},
   "outputs": [
    {
     "data": {
      "text/plain": [
       "3.141592653589793"
      ]
     },
     "execution_count": 2,
     "metadata": {},
     "output_type": "execute_result"
    }
   ],
   "source": [
    "math.pi"
   ]
  },
  {
   "cell_type": "code",
   "execution_count": 7,
   "id": "c8add20d",
   "metadata": {},
   "outputs": [
    {
     "data": {
      "text/plain": [
       "4.0"
      ]
     },
     "execution_count": 7,
     "metadata": {},
     "output_type": "execute_result"
    }
   ],
   "source": [
    "math.pow(2,2)"
   ]
  },
  {
   "cell_type": "code",
   "execution_count": 9,
   "id": "ae9109a4",
   "metadata": {},
   "outputs": [
    {
     "data": {
      "text/plain": [
       "25"
      ]
     },
     "execution_count": 9,
     "metadata": {},
     "output_type": "execute_result"
    }
   ],
   "source": []
  },
  {
   "cell_type": "code",
   "execution_count": 10,
   "id": "99060073",
   "metadata": {},
   "outputs": [
    {
     "data": {
      "text/plain": [
       "5.5"
      ]
     },
     "execution_count": 10,
     "metadata": {},
     "output_type": "execute_result"
    }
   ],
   "source": [
    "# statistics\n",
    "import statistics\n",
    "statistics.mean([2,5,6,9])"
   ]
  },
  {
   "cell_type": "code",
   "execution_count": 11,
   "id": "ea8eabc5",
   "metadata": {},
   "outputs": [
    {
     "data": {
      "text/plain": [
       "2.886751345948129"
      ]
     },
     "execution_count": 11,
     "metadata": {},
     "output_type": "execute_result"
    }
   ],
   "source": [
    "statistics.stdev([2,5,6,9])"
   ]
  },
  {
   "cell_type": "code",
   "execution_count": 13,
   "id": "5571ec4e",
   "metadata": {},
   "outputs": [
    {
     "data": {
      "text/plain": [
       "'C:\\\\Users\\\\ApurvaVijaySawant\\\\Untitled Folder'"
      ]
     },
     "execution_count": 13,
     "metadata": {},
     "output_type": "execute_result"
    }
   ],
   "source": [
    "# os\n",
    "import os\n",
    "#view working directory\n",
    "os.getcwd()\n"
   ]
  },
  {
   "cell_type": "code",
   "execution_count": 17,
   "id": "3c67f413",
   "metadata": {},
   "outputs": [],
   "source": [
    "# changing working directory\n",
    "os.chdir(\"C://Users\")\n"
   ]
  },
  {
   "cell_type": "code",
   "execution_count": 18,
   "id": "50c8afce",
   "metadata": {},
   "outputs": [
    {
     "ename": "PermissionError",
     "evalue": "[WinError 5] Access is denied: 'MyProject3'",
     "output_type": "error",
     "traceback": [
      "\u001b[1;31m---------------------------------------------------------------------------\u001b[0m",
      "\u001b[1;31mPermissionError\u001b[0m                           Traceback (most recent call last)",
      "\u001b[1;32m~\\AppData\\Local\\Temp\\ipykernel_18308\\1219465257.py\u001b[0m in \u001b[0;36m<module>\u001b[1;34m\u001b[0m\n\u001b[1;32m----> 1\u001b[1;33m \u001b[0mos\u001b[0m\u001b[1;33m.\u001b[0m\u001b[0mmkdir\u001b[0m\u001b[1;33m(\u001b[0m\u001b[1;34m\"MyProject3\"\u001b[0m\u001b[1;33m)\u001b[0m\u001b[1;33m\u001b[0m\u001b[1;33m\u001b[0m\u001b[0m\n\u001b[0m",
      "\u001b[1;31mPermissionError\u001b[0m: [WinError 5] Access is denied: 'MyProject3'"
     ]
    }
   ],
   "source": [
    "os.mkdir(\"MyProject3\")"
   ]
  },
  {
   "cell_type": "code",
   "execution_count": 19,
   "id": "5b454961",
   "metadata": {},
   "outputs": [],
   "source": [
    "#make directory\n"
   ]
  },
  {
   "cell_type": "code",
   "execution_count": null,
   "id": "24c4ec9f",
   "metadata": {},
   "outputs": [],
   "source": []
  },
  {
   "cell_type": "code",
   "execution_count": 20,
   "id": "bd3e55dd",
   "metadata": {},
   "outputs": [
    {
     "data": {
      "text/plain": [
       "0.7713018071022131"
      ]
     },
     "execution_count": 20,
     "metadata": {},
     "output_type": "execute_result"
    }
   ],
   "source": [
    "#random\n",
    "import random\n",
    "#generate random floats\n",
    "random.random()\n"
   ]
  },
  {
   "cell_type": "code",
   "execution_count": 21,
   "id": "6f635141",
   "metadata": {},
   "outputs": [
    {
     "data": {
      "text/plain": [
       "37"
      ]
     },
     "execution_count": 21,
     "metadata": {},
     "output_type": "execute_result"
    }
   ],
   "source": [
    "# generate random integers\n",
    "random.randint(1,100)\n"
   ]
  },
  {
   "cell_type": "code",
   "execution_count": 23,
   "id": "99ce283d",
   "metadata": {},
   "outputs": [
    {
     "data": {
      "text/plain": [
       "'c'"
      ]
     },
     "execution_count": 23,
     "metadata": {},
     "output_type": "execute_result"
    }
   ],
   "source": [
    "#select random elements\n",
    "random.choice('computer')"
   ]
  },
  {
   "cell_type": "code",
   "execution_count": null,
   "id": "7c47ffd7",
   "metadata": {},
   "outputs": [],
   "source": [
    "#generate random numbers within range\n",
    "                            \n",
    "# random.randrange(1,10) # by default skip =1--> contains all the numbers between 1 to 10."
   ]
  },
  {
   "cell_type": "code",
   "execution_count": 24,
   "id": "c64e223c",
   "metadata": {},
   "outputs": [],
   "source": [
    "x=random.randrange(1,10,2)"
   ]
  },
  {
   "cell_type": "code",
   "execution_count": 6,
   "id": "3079b06f",
   "metadata": {},
   "outputs": [
    {
     "name": "stdout",
     "output_type": "stream",
     "text": [
      "Collecting package metadata (current_repodata.json): ...working... done\n",
      "Solving environment: ...working... failed with initial frozen solve. Retrying with flexible solve.\n",
      "Collecting package metadata (repodata.json): ...working... done\n",
      "Solving environment: ...working... failed with initial frozen solve. Retrying with flexible solve.\n"
     ]
    },
    {
     "name": "stderr",
     "output_type": "stream",
     "text": [
      "\n",
      "PackagesNotFoundError: The following packages are not available from current channels:\n",
      "\n",
      "  - package\n",
      "\n",
      "Current channels:\n",
      "\n",
      "  - https://repo.anaconda.com/pkgs/main/win-64\n",
      "  - https://repo.anaconda.com/pkgs/main/noarch\n",
      "  - https://repo.anaconda.com/pkgs/r/win-64\n",
      "  - https://repo.anaconda.com/pkgs/r/noarch\n",
      "  - https://repo.anaconda.com/pkgs/msys2/win-64\n",
      "  - https://repo.anaconda.com/pkgs/msys2/noarch\n",
      "\n",
      "To search for alternate channels that may provide the conda package you're\n",
      "looking for, navigate to\n",
      "\n",
      "    https://anaconda.org\n",
      "\n",
      "and use the search bar at the top of the page.\n",
      "\n",
      "\n"
     ]
    }
   ],
   "source": [
    "#### Modules Vs Packages\n",
    "!conda install Package\n"
   ]
  },
  {
   "cell_type": "code",
   "execution_count": null,
   "id": "105b9cec",
   "metadata": {},
   "outputs": [],
   "source": []
  },
  {
   "cell_type": "markdown",
   "id": "1fbeec82",
   "metadata": {},
   "source": [
    "Module: The module is a simple Python file that contains collections of functions and global variables and with having a .py extension file. It is an executable file and to organize all the modules we have the concept called Package in Python.\n",
    "\n",
    "Package: The package is a simple directory having collections of modules. This directory contains Python modules and also having __init__.py file by which the interpreter interprets it as a Package. The package is simply a namespace. The package also contains sub-packages inside it."
   ]
  }
 ],
 "metadata": {
  "kernelspec": {
   "display_name": "Python 3 (ipykernel)",
   "language": "python",
   "name": "python3"
  },
  "language_info": {
   "codemirror_mode": {
    "name": "ipython",
    "version": 3
   },
   "file_extension": ".py",
   "mimetype": "text/x-python",
   "name": "python",
   "nbconvert_exporter": "python",
   "pygments_lexer": "ipython3",
   "version": "3.9.13"
  }
 },
 "nbformat": 4,
 "nbformat_minor": 5
}
