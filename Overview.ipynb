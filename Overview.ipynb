{
 "cells": [
  {
   "cell_type": "markdown",
   "id": "74acefbb",
   "metadata": {},
   "source": [
    "### Language Overview\n",
    "    \n",
    "           - Variables\n",
    "           \n",
    "           - statements & Expressions\n",
    "           \n",
    "           - whitespace & comments\n",
    "                           \n",
    "\n",
    "### Types and Values\n",
    "\n",
    "           - Data Types\n",
    "           \n",
    "           - user input & output\n",
    "    \n",
    "           - type() & id()"
   ]
  },
  {
   "cell_type": "markdown",
   "id": "4bce987d",
   "metadata": {},
   "source": [
    "#### Variables"
   ]
  },
  {
   "cell_type": "code",
   "execution_count": 11,
   "id": "5761022e",
   "metadata": {},
   "outputs": [],
   "source": [
    "### Creata a variable\n",
    "arr=2.5\n",
    "arr2=5\n",
    "chars=\"Hello\"\n"
   ]
  },
  {
   "cell_type": "code",
   "execution_count": 12,
   "id": "3b5089d5",
   "metadata": {},
   "outputs": [
    {
     "data": {
      "text/plain": [
       "str"
      ]
     },
     "execution_count": 12,
     "metadata": {},
     "output_type": "execute_result"
    }
   ],
   "source": [
    "### Type of variable\n",
    "type(chars)"
   ]
  },
  {
   "cell_type": "markdown",
   "id": "83b2b53a",
   "metadata": {},
   "source": []
  },
  {
   "cell_type": "code",
   "execution_count": 13,
   "id": "ac75c4de",
   "metadata": {},
   "outputs": [],
   "source": [
    "### Assign multiple values to multiple variables\n",
    "\n",
    "a=12;b=45;c=12"
   ]
  },
  {
   "cell_type": "code",
   "execution_count": 14,
   "id": "c2dd17b3",
   "metadata": {},
   "outputs": [
    {
     "name": "stdout",
     "output_type": "stream",
     "text": [
      "12 45 12\n"
     ]
    }
   ],
   "source": [
    "print(a,b,c)"
   ]
  },
  {
   "cell_type": "code",
   "execution_count": 7,
   "id": "88c5ecc5",
   "metadata": {},
   "outputs": [],
   "source": [
    "### Assign same value to multiple variable\n",
    "a=b=c=d=15\n"
   ]
  },
  {
   "cell_type": "code",
   "execution_count": 8,
   "id": "51cc2294",
   "metadata": {},
   "outputs": [],
   "source": [
    "#python is case sensitive\n",
    "new=80\n"
   ]
  },
  {
   "cell_type": "code",
   "execution_count": 9,
   "id": "782783d7",
   "metadata": {},
   "outputs": [],
   "source": [
    "var_1=34"
   ]
  },
  {
   "cell_type": "code",
   "execution_count": 10,
   "id": "c72b6473",
   "metadata": {},
   "outputs": [
    {
     "data": {
      "text/plain": [
       "34"
      ]
     },
     "execution_count": 10,
     "metadata": {},
     "output_type": "execute_result"
    }
   ],
   "source": [
    "var_1"
   ]
  },
  {
   "cell_type": "markdown",
   "id": "0284f775",
   "metadata": {},
   "source": [
    "#### Keywords & Constants"
   ]
  },
  {
   "cell_type": "markdown",
   "id": "0bf71d55",
   "metadata": {},
   "source": [
    "Keywords are the reserved words in Python.\n",
    "\n",
    "We cannot use a keyword as a variable name, function name or any other identifier. They are used to define the syntax and structure of the Python language."
   ]
  },
  {
   "cell_type": "markdown",
   "id": "ffd991ed",
   "metadata": {},
   "source": [
    "All the keywords except True, False and None are in lowercase and they must be written as they are.\n",
    "\n",
    "The list of all the keywords is given below.\n",
    "\n",
    "False\tawait\telse\timport\tpass\n",
    "\n",
    "None\tbreak\texcept\tin\traise\n",
    "\n",
    "True\tclass\tfinally\tis\treturn\n",
    "\n",
    "and\tcontinue\tfor\tlambda\ttry\n",
    "\n",
    "as\tdef\tfrom\tnonlocal\twhile\n",
    "\n",
    "assert\tdel\tglobal\tnot\twith\n",
    "\n",
    "async\telif\tif\tor\tyield\n"
   ]
  },
  {
   "cell_type": "markdown",
   "id": "183ba99f",
   "metadata": {},
   "source": [
    "An identifier is a name given to entities like class, functions, variables, etc. It helps to differentiate one entity from another.\n",
    "Rules for writing identifiers\n",
    "\n",
    "Identifiers can be a combination of letters in lowercase (a to z) or uppercase (A to Z) or digits (0 to 9) or an underscore _. Names like myClass, var_1 and print_this_to_screen, all are valid example.\n",
    "\n",
    "An identifier cannot start with a digit. 1variable is invalid, but variable1 is a valid name.\n",
    "\n",
    "Keywords cannot be used as identifiers."
   ]
  },
  {
   "cell_type": "code",
   "execution_count": null,
   "id": "55be0ee0",
   "metadata": {},
   "outputs": [],
   "source": []
  },
  {
   "cell_type": "markdown",
   "id": "519bb05e",
   "metadata": {},
   "source": [
    "A constant is a type of variable whose value cannot be changed."
   ]
  },
  {
   "cell_type": "code",
   "execution_count": null,
   "id": "84e52eab",
   "metadata": {},
   "outputs": [],
   "source": [
    "# pi=3.14"
   ]
  },
  {
   "cell_type": "markdown",
   "id": "a415699c",
   "metadata": {},
   "source": [
    "#### Statements and Expressions"
   ]
  },
  {
   "cell_type": "markdown",
   "id": "bb17b285",
   "metadata": {},
   "source": [
    "An Expression is a sequence or combination of values, variables, operators and function calls that always produces or returns a result value.\n",
    "– An Expression always evaluates (calculate) to itself."
   ]
  },
  {
   "cell_type": "markdown",
   "id": "8f04b5e9",
   "metadata": {},
   "source": [
    "x = 5, y = 3, z = x + y\n",
    "In the above example x, y and z are variables, 5 and 3 are values, = and + are operators.\n",
    "\n",
    "So, the first combination x = 5 is an expression, the second combination y = 3 is an another expression and at last, z = x + y is also an expression."
   ]
  },
  {
   "cell_type": "markdown",
   "id": "11ca2032",
   "metadata": {},
   "source": [
    "Any Instruction that a python interpreter can execute (carry out) is called a Statement."
   ]
  },
  {
   "cell_type": "markdown",
   "id": "27e7fcf7",
   "metadata": {},
   "source": [
    "Each and every line or a sentence in any programming language is called an instruction.\n",
    "In simple words – A Statement is the smallest executable unit of code that has an effect, like creating a variable or displaying a value.\n",
    "Each and every line of code that we write in any programming language is called a statement"
   ]
  },
  {
   "cell_type": "raw",
   "id": "80ee9151",
   "metadata": {},
   "source": [
    "Difference between Expressions and Statements in Python:\n",
    "\n",
    "Expression\t  \n",
    "\n",
    "                                                                    Statement\n",
    "                                                                    \n",
    "An expression evaluates to a value\t                          A statement executes something\n",
    "The evaluation of a statement does not changes state\t      The execution of a statement changes state\n",
    "Evaluation of an expression always Produces or returns\n",
    "a result value.\t                                              Execution of a statement may or may not produces or displays a                                                                 result value, it only does whatever the statement says.\n",
    "Every expression can’t be a statement.\t                      Every statement can be an expression.\n",
    "\n",
    "Example: >>> a + 16\n",
    ">>> 20\t                                                      Example:  >>> x = 3\n",
    "                                                               >>> print(x)\n",
    "\n",
    "                                                                 Output: 3"
   ]
  },
  {
   "cell_type": "markdown",
   "id": "ff734e94",
   "metadata": {},
   "source": [
    "#### Whitespace & Comment"
   ]
  },
  {
   "cell_type": "markdown",
   "id": "7a7dc2f2",
   "metadata": {},
   "source": [
    "Indentation: A code block (body of a function, loop, etc.) starts with indentation.\n",
    "Generally, four whitespaces are used for indentation and are preferred over tabs.\n",
    "\n",
    "Comment: A Python comment is a line of text that appears in a program but is not executed by the program."
   ]
  },
  {
   "cell_type": "markdown",
   "id": "fb0c3be7",
   "metadata": {},
   "source": [
    "Single line comments: Python single-line comment starts with a hashtag symbol with no white spaces (#) and lasts till the end of the line. If the comment exceeds one line then put a hashtag on the next line and continue the comment.\n",
    "Multi-line string as a comment: Python multi-line comment is a piece of text enclosed in a delimiter (“””) on each end of the comment. Again there should be no white space between delimiter (“””)."
   ]
  },
  {
   "cell_type": "code",
   "execution_count": 15,
   "id": "148163ee",
   "metadata": {},
   "outputs": [],
   "source": [
    "# variable declaration\n",
    "s=78\n"
   ]
  },
  {
   "cell_type": "code",
   "execution_count": 17,
   "id": "55124b95",
   "metadata": {},
   "outputs": [
    {
     "data": {
      "text/plain": [
       "'This is the first line for explaining whitespace and comments.'"
      ]
     },
     "execution_count": 17,
     "metadata": {},
     "output_type": "execute_result"
    }
   ],
   "source": [
    "\"\"\"This is the first line for explaining whitespace and comments.\"\"\"\n"
   ]
  },
  {
   "cell_type": "markdown",
   "id": "4a612851",
   "metadata": {},
   "source": [
    "- numeric (int,float)\n",
    "\n",
    "- bool\n",
    "\n",
    "- complex\n",
    "\n",
    "- string\n"
   ]
  },
  {
   "cell_type": "code",
   "execution_count": 18,
   "id": "e818ec02",
   "metadata": {},
   "outputs": [],
   "source": [
    "### int\n",
    "x=10\n"
   ]
  },
  {
   "cell_type": "code",
   "execution_count": 19,
   "id": "206da9f7",
   "metadata": {},
   "outputs": [
    {
     "data": {
      "text/plain": [
       "int"
      ]
     },
     "execution_count": 19,
     "metadata": {},
     "output_type": "execute_result"
    }
   ],
   "source": [
    "# type of a variable\n",
    "type(x)\n"
   ]
  },
  {
   "cell_type": "code",
   "execution_count": 20,
   "id": "d5510c21",
   "metadata": {},
   "outputs": [
    {
     "data": {
      "text/plain": [
       "10"
      ]
     },
     "execution_count": 20,
     "metadata": {},
     "output_type": "execute_result"
    }
   ],
   "source": [
    "# output\n",
    "x\n"
   ]
  },
  {
   "cell_type": "code",
   "execution_count": 21,
   "id": "29d09fb5",
   "metadata": {},
   "outputs": [],
   "source": [
    "### float\n",
    "y=3.14\n"
   ]
  },
  {
   "cell_type": "code",
   "execution_count": 22,
   "id": "ca20b017",
   "metadata": {},
   "outputs": [
    {
     "data": {
      "text/plain": [
       "float"
      ]
     },
     "execution_count": 22,
     "metadata": {},
     "output_type": "execute_result"
    }
   ],
   "source": [
    "#type of a variable\n",
    "type(y)"
   ]
  },
  {
   "cell_type": "code",
   "execution_count": 23,
   "id": "4a114d10",
   "metadata": {},
   "outputs": [
    {
     "data": {
      "text/plain": [
       "3.14"
      ]
     },
     "execution_count": 23,
     "metadata": {},
     "output_type": "execute_result"
    }
   ],
   "source": [
    "#output\n",
    "y"
   ]
  },
  {
   "cell_type": "code",
   "execution_count": 27,
   "id": "7ac5980b",
   "metadata": {},
   "outputs": [],
   "source": [
    "### bool\n",
    "z=True\n",
    "w=False\n"
   ]
  },
  {
   "cell_type": "code",
   "execution_count": 28,
   "id": "a55a00e8",
   "metadata": {},
   "outputs": [
    {
     "data": {
      "text/plain": [
       "bool"
      ]
     },
     "execution_count": 28,
     "metadata": {},
     "output_type": "execute_result"
    }
   ],
   "source": [
    "#type of a variable\n",
    "type(z)\n",
    "type(w)"
   ]
  },
  {
   "cell_type": "code",
   "execution_count": 29,
   "id": "b7a664e7",
   "metadata": {},
   "outputs": [
    {
     "data": {
      "text/plain": [
       "(True, False)"
      ]
     },
     "execution_count": 29,
     "metadata": {},
     "output_type": "execute_result"
    }
   ],
   "source": [
    "# output\n",
    "z,w"
   ]
  },
  {
   "cell_type": "code",
   "execution_count": 30,
   "id": "f52c6e89",
   "metadata": {},
   "outputs": [],
   "source": [
    "### complex\n",
    "boolean = (812==0)\n"
   ]
  },
  {
   "cell_type": "code",
   "execution_count": 32,
   "id": "7b9765e0",
   "metadata": {},
   "outputs": [
    {
     "data": {
      "text/plain": [
       "bool"
      ]
     },
     "execution_count": 32,
     "metadata": {},
     "output_type": "execute_result"
    }
   ],
   "source": [
    "#type\n",
    "type(812==0)"
   ]
  },
  {
   "cell_type": "code",
   "execution_count": null,
   "id": "ed7bd84a",
   "metadata": {},
   "outputs": [],
   "source": [
    "#output\n"
   ]
  },
  {
   "cell_type": "code",
   "execution_count": 33,
   "id": "fd77ba40",
   "metadata": {},
   "outputs": [
    {
     "data": {
      "text/plain": [
       "False"
      ]
     },
     "execution_count": 33,
     "metadata": {},
     "output_type": "execute_result"
    }
   ],
   "source": [
    "boolean"
   ]
  },
  {
   "cell_type": "code",
   "execution_count": 34,
   "id": "ae67a230",
   "metadata": {},
   "outputs": [],
   "source": [
    "### string\n",
    "str1=\"Abhishek is a genius\"\n"
   ]
  },
  {
   "cell_type": "code",
   "execution_count": 35,
   "id": "b1456063",
   "metadata": {},
   "outputs": [
    {
     "data": {
      "text/plain": [
       "str"
      ]
     },
     "execution_count": 35,
     "metadata": {},
     "output_type": "execute_result"
    }
   ],
   "source": [
    "# type\n",
    "type(str1)\n"
   ]
  },
  {
   "cell_type": "code",
   "execution_count": 36,
   "id": "4468524e",
   "metadata": {},
   "outputs": [
    {
     "data": {
      "text/plain": [
       "'Abhishek is a genius'"
      ]
     },
     "execution_count": 36,
     "metadata": {},
     "output_type": "execute_result"
    }
   ],
   "source": [
    "# output\n",
    "str1\n"
   ]
  },
  {
   "cell_type": "code",
   "execution_count": null,
   "id": "c1028cb8",
   "metadata": {},
   "outputs": [],
   "source": [
    "# case sensitive\n"
   ]
  },
  {
   "cell_type": "code",
   "execution_count": null,
   "id": "9aa3df85",
   "metadata": {},
   "outputs": [],
   "source": [
    "# different formats to display output\n"
   ]
  },
  {
   "cell_type": "code",
   "execution_count": null,
   "id": "0c05013e",
   "metadata": {},
   "outputs": [],
   "source": []
  },
  {
   "cell_type": "code",
   "execution_count": null,
   "id": "d78e8c58",
   "metadata": {},
   "outputs": [],
   "source": []
  },
  {
   "cell_type": "code",
   "execution_count": null,
   "id": "dc38390c",
   "metadata": {},
   "outputs": [],
   "source": []
  },
  {
   "cell_type": "code",
   "execution_count": null,
   "id": "65aa2bdc",
   "metadata": {},
   "outputs": [],
   "source": []
  },
  {
   "cell_type": "code",
   "execution_count": null,
   "id": "dabee1ec",
   "metadata": {},
   "outputs": [],
   "source": []
  },
  {
   "cell_type": "code",
   "execution_count": 41,
   "id": "1babd789",
   "metadata": {},
   "outputs": [
    {
     "name": "stdout",
     "output_type": "stream",
     "text": [
      "Welcome\n",
      "to all\n"
     ]
    }
   ],
   "source": [
    "print(\"Welcome\")\n",
    "print(\"to all\")"
   ]
  },
  {
   "cell_type": "code",
   "execution_count": 42,
   "id": "e6f6919a",
   "metadata": {},
   "outputs": [],
   "source": [
    "# output : Welcome to all --> using two print() functions."
   ]
  },
  {
   "cell_type": "code",
   "execution_count": 43,
   "id": "a53698e4",
   "metadata": {},
   "outputs": [
    {
     "name": "stdout",
     "output_type": "stream",
     "text": [
      "Welcome to all\n"
     ]
    }
   ],
   "source": [
    "# with end parameter end =''\n",
    "print(\"Welcome\",end=' ')\n",
    "print(\"to all\")\n"
   ]
  },
  {
   "cell_type": "code",
   "execution_count": 46,
   "id": "5e01e829",
   "metadata": {},
   "outputs": [
    {
     "name": "stdout",
     "output_type": "stream",
     "text": [
      "Enter a number = 25\n"
     ]
    }
   ],
   "source": [
    "## user input \n",
    "## input() function\n",
    "a=int(input(\"Enter a number = \"))\n"
   ]
  },
  {
   "cell_type": "code",
   "execution_count": 47,
   "id": "fc59933a",
   "metadata": {},
   "outputs": [
    {
     "name": "stdout",
     "output_type": "stream",
     "text": [
      "Enter a float numerical: 3.1533\n"
     ]
    }
   ],
   "source": [
    "# type of a variable input1\n",
    "input1=float(input(\"Enter a float numerical: \"))\n"
   ]
  },
  {
   "cell_type": "code",
   "execution_count": null,
   "id": "9dc85c97",
   "metadata": {},
   "outputs": [],
   "source": [
    "# Type casting\n"
   ]
  },
  {
   "cell_type": "code",
   "execution_count": null,
   "id": "3c2e288e",
   "metadata": {},
   "outputs": [],
   "source": []
  },
  {
   "cell_type": "code",
   "execution_count": null,
   "id": "0fc2a4ba",
   "metadata": {},
   "outputs": [],
   "source": [
    "## multiple inputs\n"
   ]
  },
  {
   "cell_type": "code",
   "execution_count": 48,
   "id": "a507c8d1",
   "metadata": {},
   "outputs": [
    {
     "name": "stdout",
     "output_type": "stream",
     "text": [
      "Apurva,Sawant\n"
     ]
    }
   ],
   "source": [
    "# split() method to write multiple imputs in a single line\n",
    "input1,input2=input().split(',')"
   ]
  },
  {
   "cell_type": "code",
   "execution_count": 50,
   "id": "43327fd9",
   "metadata": {},
   "outputs": [
    {
     "data": {
      "text/plain": [
       "('Apurva', 'Sawant')"
      ]
     },
     "execution_count": 50,
     "metadata": {},
     "output_type": "execute_result"
    }
   ],
   "source": [
    "(input1,input2)"
   ]
  },
  {
   "cell_type": "markdown",
   "id": "bde8b7b3",
   "metadata": {},
   "source": [
    "#### type() and id()"
   ]
  },
  {
   "cell_type": "markdown",
   "id": "d1852bc8",
   "metadata": {},
   "source": [
    "The id() function returns a unique id for the specified object.\n",
    "\n",
    "All objects in Python has its own unique id.\n",
    "\n",
    "The id is assigned to the object when it is created.\n",
    "###### syntax: id(object)"
   ]
  },
  {
   "cell_type": "markdown",
   "id": "e0b82a32",
   "metadata": {},
   "source": [
    "id() function returns the identity of the object. type() function returns the type of the object"
   ]
  },
  {
   "cell_type": "code",
   "execution_count": 51,
   "id": "9cf492d1",
   "metadata": {},
   "outputs": [
    {
     "data": {
      "text/plain": [
       "2490022438960"
      ]
     },
     "execution_count": 51,
     "metadata": {},
     "output_type": "execute_result"
    }
   ],
   "source": [
    "id(input1)"
   ]
  },
  {
   "cell_type": "code",
   "execution_count": 15,
   "id": "de269afb",
   "metadata": {},
   "outputs": [
    {
     "name": "stdout",
     "output_type": "stream",
     "text": [
      "Enter two numbers: 12.55\n",
      "Enter two numbers: 23.66\n",
      "12.55 23.66\n"
     ]
    }
   ],
   "source": [
    "### Hands-on\n",
    "num1=float(input(\"Enter two numbers: \"))\n",
    "num2=float(input(\"Enter two numbers: \"))\n",
    "print(\"%0.2f\"%(num1),\"%0.2f\"%(num2))\n",
    "\n",
    "\n",
    "\n"
   ]
  },
  {
   "cell_type": "markdown",
   "id": "18d7ee7a",
   "metadata": {},
   "source": [
    "Accept numbers from a user"
   ]
  },
  {
   "cell_type": "markdown",
   "id": "18ebb35a",
   "metadata": {},
   "source": [
    "Display float number with 2 decimal places using print()"
   ]
  },
  {
   "cell_type": "markdown",
   "id": "6fb1d8b5",
   "metadata": {},
   "source": [
    "Accept 3 float numbers as an input from the user"
   ]
  },
  {
   "cell_type": "markdown",
   "id": "3e143e13",
   "metadata": {},
   "source": [
    "Accept any three string from one input() call "
   ]
  },
  {
   "cell_type": "markdown",
   "id": "c90c7f51",
   "metadata": {},
   "source": [
    "Create a variable named carname and assign the value Volvo to it."
   ]
  },
  {
   "cell_type": "markdown",
   "id": "333cb0fb",
   "metadata": {},
   "source": [
    "Make a Python program that prints your name."
   ]
  },
  {
   "cell_type": "markdown",
   "id": "ffda8487",
   "metadata": {},
   "source": [
    "Make a program that asks the users preferred programming language."
   ]
  },
  {
   "cell_type": "markdown",
   "id": "89207cfd",
   "metadata": {},
   "source": [
    "Get string object '123' from user input function and add value 1."
   ]
  }
 ],
 "metadata": {
  "kernelspec": {
   "display_name": "Python 3 (ipykernel)",
   "language": "python",
   "name": "python3"
  },
  "language_info": {
   "codemirror_mode": {
    "name": "ipython",
    "version": 3
   },
   "file_extension": ".py",
   "mimetype": "text/x-python",
   "name": "python",
   "nbconvert_exporter": "python",
   "pygments_lexer": "ipython3",
   "version": "3.9.13"
  }
 },
 "nbformat": 4,
 "nbformat_minor": 5
}
