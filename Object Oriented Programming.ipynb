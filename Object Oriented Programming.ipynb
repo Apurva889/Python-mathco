{
 "cells": [
  {
   "cell_type": "markdown",
   "id": "1a53941d",
   "metadata": {},
   "source": [
    "### Object Oriented Programming\n",
    "\n",
    "- Class\n",
    "\n",
    "- Objects\n",
    "\n",
    "- Methods\n"
   ]
  },
  {
   "cell_type": "raw",
   "id": "5bd6f2b6",
   "metadata": {},
   "source": [
    "OOP:\n",
    "    Class\n",
    "       object\n",
    "            Instance\n",
    "        Methods\n",
    "                class methos __init__() intialstage of the object by asigning the values of the \n",
    "                                           object properties.\n",
    "                                self parameter-->instance automatically passed into self parameter\n",
    "                                                so that new attributes can be defined on the object"
   ]
  },
  {
   "cell_type": "raw",
   "id": "e3b04853",
   "metadata": {},
   "source": [
    "A blueprint for a house design is like a class description.\n",
    "All the houses built from that blueprint are objects of that class. \n",
    "A given house is an instance."
   ]
  },
  {
   "cell_type": "markdown",
   "id": "350225f2",
   "metadata": {},
   "source": [
    "#### Classes \n",
    "\n",
    "class--> collection of objects.\n",
    "\n",
    "classes are created by keyword'class'\n",
    "\n",
    "attributes are the variables that belong to a class\n",
    "\n",
    "attributes are always public and can be accessed using the dot(.)operator "
   ]
  },
  {
   "cell_type": "code",
   "execution_count": 8,
   "id": "4ab86dd2",
   "metadata": {},
   "outputs": [],
   "source": [
    "# create an empty class \n",
    "class Dog:\n",
    "    pass"
   ]
  },
  {
   "cell_type": "code",
   "execution_count": 9,
   "id": "4a66d4f7",
   "metadata": {},
   "outputs": [],
   "source": [
    "class Dog:\n",
    "    def _init_(self,name,age):\n",
    "        self.name=name\n",
    "        self.age=age"
   ]
  },
  {
   "cell_type": "code",
   "execution_count": 10,
   "id": "9eba0159",
   "metadata": {},
   "outputs": [
    {
     "ename": "TypeError",
     "evalue": "Dog() takes no arguments",
     "output_type": "error",
     "traceback": [
      "\u001b[1;31m---------------------------------------------------------------------------\u001b[0m",
      "\u001b[1;31mTypeError\u001b[0m                                 Traceback (most recent call last)",
      "\u001b[1;32m~\\AppData\\Local\\Temp\\ipykernel_11548\\151223008.py\u001b[0m in \u001b[0;36m<module>\u001b[1;34m\u001b[0m\n\u001b[1;32m----> 1\u001b[1;33m \u001b[0mDog\u001b[0m\u001b[1;33m(\u001b[0m\u001b[1;34m'mila'\u001b[0m\u001b[1;33m,\u001b[0m\u001b[1;36m4\u001b[0m\u001b[1;33m)\u001b[0m\u001b[1;33m\u001b[0m\u001b[1;33m\u001b[0m\u001b[0m\n\u001b[0m",
      "\u001b[1;31mTypeError\u001b[0m: Dog() takes no arguments"
     ]
    }
   ],
   "source": [
    "Dog('mila',4)"
   ]
  },
  {
   "cell_type": "code",
   "execution_count": null,
   "id": "d5aa71cd",
   "metadata": {},
   "outputs": [],
   "source": [
    "# After creating the Dog instances, access their instance attributes using dot.\n",
    "dog1=Dog"
   ]
  },
  {
   "cell_type": "raw",
   "id": "f5dcdce5",
   "metadata": {},
   "source": [
    "Instance attributes: Attributes created in .__init__() are called instance attributes\n",
    "                    An instance attribute’s value is specific to a particular instance of the class.\n",
    "class attribtues:  attributes that have the same value for all class instances. You can define a class                   attribute by assigning a value to a variable name outside of .__init__()."
   ]
  },
  {
   "cell_type": "markdown",
   "id": "0913d2e5",
   "metadata": {},
   "source": [
    "Note: Use class attributes to define properties that should have the same value for every class instance. Use instance attributes for properties that vary from one instance to another."
   ]
  },
  {
   "cell_type": "code",
   "execution_count": 14,
   "id": "ccc96fb2",
   "metadata": {},
   "outputs": [],
   "source": [
    "#Dog class has a class attribute called breed with the value \"Labrador\":\n",
    "class Dog:\n",
    "    # Class attribute\n",
    "    breed=\"Labrador\"\n",
    "    def _init_(self,name,age):\n",
    "        self.name=name\n",
    "        self.age=age\n",
    "    "
   ]
  },
  {
   "cell_type": "code",
   "execution_count": 15,
   "id": "a11fc6ca",
   "metadata": {},
   "outputs": [
    {
     "data": {
      "text/plain": [
       "'Labrador'"
      ]
     },
     "execution_count": 15,
     "metadata": {},
     "output_type": "execute_result"
    }
   ],
   "source": [
    "Dog.breed"
   ]
  },
  {
   "cell_type": "code",
   "execution_count": 18,
   "id": "75a5bc81",
   "metadata": {},
   "outputs": [
    {
     "ename": "TypeError",
     "evalue": "Dog() takes no arguments",
     "output_type": "error",
     "traceback": [
      "\u001b[1;31m---------------------------------------------------------------------------\u001b[0m",
      "\u001b[1;31mTypeError\u001b[0m                                 Traceback (most recent call last)",
      "\u001b[1;32m~\\AppData\\Local\\Temp\\ipykernel_11548\\3811175132.py\u001b[0m in \u001b[0;36m<module>\u001b[1;34m\u001b[0m\n\u001b[1;32m----> 1\u001b[1;33m \u001b[0mdog3\u001b[0m\u001b[1;33m=\u001b[0m\u001b[0mDog\u001b[0m\u001b[1;33m(\u001b[0m\u001b[1;34m\"tom\"\u001b[0m\u001b[1;33m,\u001b[0m\u001b[1;36m3\u001b[0m\u001b[1;33m)\u001b[0m\u001b[1;33m\u001b[0m\u001b[1;33m\u001b[0m\u001b[0m\n\u001b[0m\u001b[0;32m      2\u001b[0m \u001b[0mdog3\u001b[0m\u001b[1;33m.\u001b[0m\u001b[0mbreed\u001b[0m\u001b[1;33m\u001b[0m\u001b[1;33m\u001b[0m\u001b[0m\n",
      "\u001b[1;31mTypeError\u001b[0m: Dog() takes no arguments"
     ]
    }
   ],
   "source": [
    "dog3=Dog(\"tom\",3)\n",
    "dog3.breed"
   ]
  },
  {
   "cell_type": "code",
   "execution_count": 19,
   "id": "c6793677",
   "metadata": {},
   "outputs": [
    {
     "ename": "IndentationError",
     "evalue": "expected an indented block (1857356121.py, line 3)",
     "output_type": "error",
     "traceback": [
      "\u001b[1;36m  File \u001b[1;32m\"C:\\Users\\ApurvaVijaySawant\\AppData\\Local\\Temp\\ipykernel_11548\\1857356121.py\"\u001b[1;36m, line \u001b[1;32m3\u001b[0m\n\u001b[1;33m    \u001b[0m\n\u001b[1;37m    ^\u001b[0m\n\u001b[1;31mIndentationError\u001b[0m\u001b[1;31m:\u001b[0m expected an indented block\n"
     ]
    }
   ],
   "source": [
    "class Dog:\n",
    "    # Class attribute\n",
    "    attr1=\"mamma1\"\n",
    "    "
   ]
  },
  {
   "cell_type": "code",
   "execution_count": null,
   "id": "4d181512",
   "metadata": {},
   "outputs": [],
   "source": []
  },
  {
   "cell_type": "code",
   "execution_count": null,
   "id": "428552cb",
   "metadata": {},
   "outputs": [],
   "source": []
  },
  {
   "cell_type": "code",
   "execution_count": 20,
   "id": "bffcf58d",
   "metadata": {},
   "outputs": [],
   "source": [
    "# do changes in the attributes\n"
   ]
  },
  {
   "cell_type": "code",
   "execution_count": 22,
   "id": "24adf622",
   "metadata": {},
   "outputs": [],
   "source": [
    "class Dog:\n",
    "    # Class attribute\n",
    "    breed=\"Labrador\"\n",
    "    color=\"Black\"\n",
    "    def __init__(self,name,age):                  # class method            \n",
    "        self.name=name\n",
    "        self.age=age\n",
    "    #instance method\n",
    "    "
   ]
  },
  {
   "cell_type": "code",
   "execution_count": null,
   "id": "f99d1af3",
   "metadata": {},
   "outputs": [],
   "source": []
  },
  {
   "cell_type": "code",
   "execution_count": null,
   "id": "c224c58a",
   "metadata": {},
   "outputs": [],
   "source": []
  },
  {
   "cell_type": "code",
   "execution_count": null,
   "id": "25c7fb89",
   "metadata": {},
   "outputs": [],
   "source": [
    "class Dog:\n",
    "    # Class attribute\n",
    "    breed=\"Labrador\"\n",
    "  \n",
    "    def __init__(self,name,age):                  # class method            \n",
    "        self.name=name\n",
    "        self.age=age\n",
    "    # instance method\n",
    "    def description(self):\n",
    "        return f'{self.name}, is {self.age} years old'\n",
    "    # another instance method\n",
    "    "
   ]
  },
  {
   "cell_type": "code",
   "execution_count": null,
   "id": "df1988cc",
   "metadata": {},
   "outputs": [],
   "source": []
  },
  {
   "cell_type": "code",
   "execution_count": null,
   "id": "3b27f94c",
   "metadata": {},
   "outputs": [],
   "source": [
    "## creating a class and object with class and instance attributes\n",
    "class Dog:\n",
    "    attr1=\"mamma1\"\n",
    "    \n",
    "    def _init_(slef,name):\n",
    "        self.name=name"
   ]
  },
  {
   "cell_type": "markdown",
   "id": "10a0853a",
   "metadata": {},
   "source": [
    "--------------------------------------- End -----------------------------------------------------"
   ]
  }
 ],
 "metadata": {
  "kernelspec": {
   "display_name": "Python 3 (ipykernel)",
   "language": "python",
   "name": "python3"
  },
  "language_info": {
   "codemirror_mode": {
    "name": "ipython",
    "version": 3
   },
   "file_extension": ".py",
   "mimetype": "text/x-python",
   "name": "python",
   "nbconvert_exporter": "python",
   "pygments_lexer": "ipython3",
   "version": "3.9.13"
  }
 },
 "nbformat": 4,
 "nbformat_minor": 5
}
