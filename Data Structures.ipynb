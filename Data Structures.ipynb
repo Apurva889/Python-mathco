{
 "cells": [
  {
   "cell_type": "markdown",
   "id": "1a80b102",
   "metadata": {},
   "source": [
    "### Data Structures\n",
    "\n",
    "         - Lists\n",
    "    \n",
    "         - Tuple\n",
    "        \n",
    "         - Dictionary\n",
    "         \n",
    "         - Set\n",
    "            \n",
    "              \n",
    "### List Comprehension"
   ]
  },
  {
   "cell_type": "markdown",
   "id": "42c2e01d",
   "metadata": {},
   "source": [
    "#### Data Structures in Python\n",
    "##### Lists"
   ]
  },
  {
   "cell_type": "code",
   "execution_count": null,
   "id": "8371ad4b",
   "metadata": {},
   "outputs": [],
   "source": [
    "An ordered sequence of values enclosed within [ ].\n",
    "\n",
    "- List can be created by [] or list()\n",
    "\n",
    "- Lists are mutable : Can do changes\n",
    "\n",
    "-  List can contain multiple data types\n",
    "\n",
    "- Lists are iterables"
   ]
  },
  {
   "cell_type": "code",
   "execution_count": 2,
   "id": "93500aaa",
   "metadata": {},
   "outputs": [],
   "source": [
    "# Create an empty list\n",
    "L1=list()"
   ]
  },
  {
   "cell_type": "code",
   "execution_count": null,
   "id": "b5bb0a19",
   "metadata": {},
   "outputs": [],
   "source": []
  },
  {
   "cell_type": "code",
   "execution_count": 3,
   "id": "a9de41d9",
   "metadata": {},
   "outputs": [
    {
     "data": {
      "text/plain": [
       "list"
      ]
     },
     "execution_count": 3,
     "metadata": {},
     "output_type": "execute_result"
    }
   ],
   "source": [
    "#type\n",
    "type(L1)"
   ]
  },
  {
   "cell_type": "code",
   "execution_count": 11,
   "id": "77d50381",
   "metadata": {},
   "outputs": [
    {
     "data": {
      "text/plain": [
       "['Apurva', 36, 'Sawant', 45.33]"
      ]
     },
     "execution_count": 11,
     "metadata": {},
     "output_type": "execute_result"
    }
   ],
   "source": [
    "# create a list with mixed data types : \n",
    "L2=[\"Apurva\",36,'Sawant',45.33]\n",
    "L2"
   ]
  },
  {
   "cell_type": "code",
   "execution_count": 10,
   "id": "6872b83d",
   "metadata": {},
   "outputs": [],
   "source": [
    "# Lists are mutable\n",
    "# change the value '5' into '0' in the list ls3\n",
    "ls3=[5,6.5,'age',True]\n"
   ]
  },
  {
   "cell_type": "code",
   "execution_count": null,
   "id": "0a54836a",
   "metadata": {},
   "outputs": [],
   "source": []
  },
  {
   "cell_type": "code",
   "execution_count": null,
   "id": "3b0151ca",
   "metadata": {},
   "outputs": [],
   "source": []
  },
  {
   "cell_type": "code",
   "execution_count": null,
   "id": "aebb053a",
   "metadata": {},
   "outputs": [],
   "source": []
  },
  {
   "cell_type": "code",
   "execution_count": 6,
   "id": "56313591",
   "metadata": {},
   "outputs": [
    {
     "data": {
      "text/plain": [
       "'age'"
      ]
     },
     "execution_count": 6,
     "metadata": {},
     "output_type": "execute_result"
    }
   ],
   "source": [
    "# Extract 'age' from the list ls3\n",
    "ls3[2]"
   ]
  },
  {
   "cell_type": "code",
   "execution_count": 7,
   "id": "18c666d3",
   "metadata": {},
   "outputs": [
    {
     "data": {
      "text/plain": [
       "'e'"
      ]
     },
     "execution_count": 7,
     "metadata": {},
     "output_type": "execute_result"
    }
   ],
   "source": [
    "# Extract 'e'  from the list ls3\n",
    "ls3[2][2]"
   ]
  },
  {
   "cell_type": "code",
   "execution_count": null,
   "id": "ec42fa2a",
   "metadata": {},
   "outputs": [],
   "source": [
    "# Extract 'age',True from the list ls3\n"
   ]
  },
  {
   "cell_type": "code",
   "execution_count": 9,
   "id": "3d7e4da5",
   "metadata": {},
   "outputs": [],
   "source": [
    "first=[2,34,5,[56,81,[43,89],67],10]"
   ]
  },
  {
   "cell_type": "code",
   "execution_count": 10,
   "id": "656f9066",
   "metadata": {},
   "outputs": [
    {
     "data": {
      "text/plain": [
       "[43, 89]"
      ]
     },
     "execution_count": 10,
     "metadata": {},
     "output_type": "execute_result"
    }
   ],
   "source": [
    "# extract [43,89] from the list 'first'\n",
    "first[3][2]"
   ]
  },
  {
   "cell_type": "code",
   "execution_count": 11,
   "id": "c967437d",
   "metadata": {},
   "outputs": [
    {
     "data": {
      "text/plain": [
       "89"
      ]
     },
     "execution_count": 11,
     "metadata": {},
     "output_type": "execute_result"
    }
   ],
   "source": [
    "# extract 89\n",
    "first[3][2][1]"
   ]
  },
  {
   "cell_type": "code",
   "execution_count": 12,
   "id": "e10665e6",
   "metadata": {},
   "outputs": [],
   "source": [
    "#extend\n",
    "newlist1=[1,2,3]\n",
    "newlist2=[5,6]\n"
   ]
  },
  {
   "cell_type": "code",
   "execution_count": 13,
   "id": "272ba5f8",
   "metadata": {},
   "outputs": [],
   "source": [
    "newlist1.extend(newlist2)"
   ]
  },
  {
   "cell_type": "code",
   "execution_count": 14,
   "id": "3416366c",
   "metadata": {},
   "outputs": [
    {
     "data": {
      "text/plain": [
       "[1, 2, 3, 5, 6]"
      ]
     },
     "execution_count": 14,
     "metadata": {},
     "output_type": "execute_result"
    }
   ],
   "source": [
    "newlist1"
   ]
  },
  {
   "cell_type": "code",
   "execution_count": 16,
   "id": "14698a94",
   "metadata": {},
   "outputs": [],
   "source": [
    "# append\n",
    "newlist3=[6,7,8]\n",
    "newlist4=[9,10]\n"
   ]
  },
  {
   "cell_type": "code",
   "execution_count": 18,
   "id": "c878f8a4",
   "metadata": {},
   "outputs": [],
   "source": [
    "# insert\n",
    "#syntax: listobject.insert(index,value)\n",
    "newlist4=[9,10]\n",
    "newlist3.append(newlist4)"
   ]
  },
  {
   "cell_type": "code",
   "execution_count": 19,
   "id": "499ecf60",
   "metadata": {},
   "outputs": [
    {
     "data": {
      "text/plain": [
       "[6, 7, 8, [9, 10], [9, 10]]"
      ]
     },
     "execution_count": 19,
     "metadata": {},
     "output_type": "execute_result"
    }
   ],
   "source": [
    "newlist3"
   ]
  },
  {
   "cell_type": "code",
   "execution_count": null,
   "id": "180dd055",
   "metadata": {},
   "outputs": [],
   "source": [
    "#pop\n",
    "# listobject.pop(index) \n",
    "# list object.pop()--> removes last element in the list\n"
   ]
  },
  {
   "cell_type": "code",
   "execution_count": 20,
   "id": "e71bd95a",
   "metadata": {},
   "outputs": [
    {
     "data": {
      "text/plain": [
       "[9, 10]"
      ]
     },
     "execution_count": 20,
     "metadata": {},
     "output_type": "execute_result"
    }
   ],
   "source": [
    "newlist4"
   ]
  },
  {
   "cell_type": "code",
   "execution_count": 21,
   "id": "061feb1f",
   "metadata": {},
   "outputs": [
    {
     "data": {
      "text/plain": [
       "[6, 7, 8, [9, 10], [9, 10]]"
      ]
     },
     "execution_count": 21,
     "metadata": {},
     "output_type": "execute_result"
    }
   ],
   "source": [
    "## remove \n",
    "# syntax: listobject.remove(value)\n",
    "list_1=[1,2,'hi','wel',8]\n",
    "newlist3"
   ]
  },
  {
   "cell_type": "code",
   "execution_count": 24,
   "id": "a3b90c02",
   "metadata": {},
   "outputs": [],
   "source": [
    "first=[2,34,5,[56,81,[43,89],67],10,59,57]"
   ]
  },
  {
   "cell_type": "code",
   "execution_count": 28,
   "id": "272e4cc4",
   "metadata": {},
   "outputs": [],
   "source": [
    "#remove elements from the list : remove 81 # del(indexing)\n",
    "del(first[3][1])"
   ]
  },
  {
   "cell_type": "code",
   "execution_count": 29,
   "id": "74a472c7",
   "metadata": {},
   "outputs": [
    {
     "data": {
      "text/plain": [
       "[2, 34, 5, [56, [43, 89], 67], 10, 59, 57]"
      ]
     },
     "execution_count": 29,
     "metadata": {},
     "output_type": "execute_result"
    }
   ],
   "source": [
    "first"
   ]
  },
  {
   "cell_type": "code",
   "execution_count": 32,
   "id": "08b87b53",
   "metadata": {},
   "outputs": [],
   "source": [
    "# reverse\n",
    "# syntax: list object.reverse()\n",
    "list1 = [1, 2, 3, 4, 1, 2, 6]\n",
    "list1.reverse()\n"
   ]
  },
  {
   "cell_type": "code",
   "execution_count": 33,
   "id": "2a44bc69",
   "metadata": {},
   "outputs": [
    {
     "data": {
      "text/plain": [
       "[6, 2, 1, 4, 3, 2, 1]"
      ]
     },
     "execution_count": 33,
     "metadata": {},
     "output_type": "execute_result"
    }
   ],
   "source": [
    "list1"
   ]
  },
  {
   "cell_type": "code",
   "execution_count": 34,
   "id": "900b4ded",
   "metadata": {},
   "outputs": [
    {
     "data": {
      "text/plain": [
       "3"
      ]
     },
     "execution_count": 34,
     "metadata": {},
     "output_type": "execute_result"
    }
   ],
   "source": [
    "#index: object.index(value)\n",
    "# returns theindex of the element\n",
    "list1.index(4)"
   ]
  },
  {
   "cell_type": "code",
   "execution_count": null,
   "id": "513faa70",
   "metadata": {},
   "outputs": [],
   "source": [
    "### Apply + * on list objects\n",
    "ls1=[12,23,12,45]\n",
    "ls2=[34,6,7,8]\n"
   ]
  },
  {
   "cell_type": "code",
   "execution_count": null,
   "id": "6e8470dc",
   "metadata": {},
   "outputs": [],
   "source": [
    "ls1+ls2"
   ]
  },
  {
   "cell_type": "code",
   "execution_count": null,
   "id": "eb4f0435",
   "metadata": {},
   "outputs": [],
   "source": [
    "ls1*4"
   ]
  },
  {
   "cell_type": "code",
   "execution_count": 36,
   "id": "c4f15fc3",
   "metadata": {},
   "outputs": [],
   "source": [
    "# sort the list object in ascending order\n",
    "ls6=[12,4,78,2,9,54]"
   ]
  },
  {
   "cell_type": "code",
   "execution_count": 37,
   "id": "958d4903",
   "metadata": {},
   "outputs": [],
   "source": [
    "#sorted()function\n"
   ]
  },
  {
   "cell_type": "code",
   "execution_count": null,
   "id": "2b86cb68",
   "metadata": {},
   "outputs": [],
   "source": []
  },
  {
   "cell_type": "code",
   "execution_count": 38,
   "id": "09927a0a",
   "metadata": {},
   "outputs": [
    {
     "data": {
      "text/plain": [
       "[78, 54, 12, 9, 4, 2]"
      ]
     },
     "execution_count": 38,
     "metadata": {},
     "output_type": "execute_result"
    }
   ],
   "source": [
    "# descending order # reverse=True\n",
    "sorted(ls6,reverse=True)"
   ]
  },
  {
   "cell_type": "code",
   "execution_count": 40,
   "id": "7e80cea2",
   "metadata": {},
   "outputs": [
    {
     "data": {
      "text/plain": [
       "[2, 4, 9, 12, 54, 78]"
      ]
     },
     "execution_count": 40,
     "metadata": {},
     "output_type": "execute_result"
    }
   ],
   "source": [
    "#sort() method\n",
    "ls6"
   ]
  },
  {
   "cell_type": "code",
   "execution_count": null,
   "id": "6db2de15",
   "metadata": {},
   "outputs": [],
   "source": []
  },
  {
   "cell_type": "code",
   "execution_count": null,
   "id": "ab535db5",
   "metadata": {},
   "outputs": [],
   "source": []
  },
  {
   "cell_type": "code",
   "execution_count": null,
   "id": "3a4702cb",
   "metadata": {},
   "outputs": [],
   "source": [
    "#descending order\n"
   ]
  },
  {
   "cell_type": "code",
   "execution_count": null,
   "id": "3fb358b4",
   "metadata": {},
   "outputs": [],
   "source": []
  },
  {
   "cell_type": "code",
   "execution_count": 41,
   "id": "f0af2028",
   "metadata": {},
   "outputs": [
    {
     "data": {
      "text/plain": [
       "['6', '6', '2022']"
      ]
     },
     "execution_count": 41,
     "metadata": {},
     "output_type": "execute_result"
    }
   ],
   "source": [
    "#split method\n",
    "dt=\"6-6-2022\"\n",
    "#split it by '-'\n",
    "dt.split('-')"
   ]
  },
  {
   "cell_type": "code",
   "execution_count": 42,
   "id": "2de11eb6",
   "metadata": {},
   "outputs": [
    {
     "name": "stdout",
     "output_type": "stream",
     "text": [
      "2\n",
      "4\n",
      "9\n",
      "12\n",
      "54\n",
      "78\n"
     ]
    }
   ],
   "source": [
    "# loop\n",
    "# for loop\n",
    "for i in ls6:\n",
    "    print(i)"
   ]
  },
  {
   "cell_type": "code",
   "execution_count": 43,
   "id": "081bc98d",
   "metadata": {},
   "outputs": [],
   "source": [
    "#List comprehension\n",
    "# one line expression of for loop"
   ]
  },
  {
   "cell_type": "code",
   "execution_count": 44,
   "id": "11ebb6fb",
   "metadata": {},
   "outputs": [],
   "source": [
    "a=[1,2,3,4]\n",
    "#list of square of elements of a\n",
    "#for loop\n"
   ]
  },
  {
   "cell_type": "code",
   "execution_count": 45,
   "id": "b41d298d",
   "metadata": {},
   "outputs": [
    {
     "data": {
      "text/plain": [
       "[True, True, True]"
      ]
     },
     "execution_count": 45,
     "metadata": {},
     "output_type": "execute_result"
    }
   ],
   "source": [
    "#list comprehension : syntax: [expression for if]\n",
    "# list of square of elements\n",
    "b=[1,2,3]\n",
    "[b[1]==2 for i in b]\n"
   ]
  },
  {
   "cell_type": "code",
   "execution_count": 49,
   "id": "7902a055",
   "metadata": {},
   "outputs": [
    {
     "data": {
      "text/plain": [
       "['Chennai', 'Bangalore']"
      ]
     },
     "execution_count": 49,
     "metadata": {},
     "output_type": "execute_result"
    }
   ],
   "source": [
    "cities=['Delhi','Pune','Chennai','Bangalore','Hyd']\n",
    "# create a list of elements which has length is greater than 6.\n",
    "[i for i in cities if len(i)>6]"
   ]
  },
  {
   "cell_type": "code",
   "execution_count": 51,
   "id": "587102a5",
   "metadata": {},
   "outputs": [
    {
     "data": {
      "text/plain": [
       "[4, 7, 10, 14]"
      ]
     },
     "execution_count": 51,
     "metadata": {},
     "output_type": "execute_result"
    }
   ],
   "source": [
    "L=[4,7,8,9]\n",
    "# Add value 5 to each element in the list\n",
    "L1=[3,4,5,6]\n",
    "L2=[1,3,5,8]\n",
    "\n",
    "[L1[x] + L2[x] for x in range(len(L1))]"
   ]
  },
  {
   "cell_type": "code",
   "execution_count": 52,
   "id": "74134009",
   "metadata": {},
   "outputs": [],
   "source": [
    "# Create a list of elements which is greater than 5 in the given list L"
   ]
  },
  {
   "cell_type": "code",
   "execution_count": 53,
   "id": "c1a94998",
   "metadata": {},
   "outputs": [
    {
     "data": {
      "text/plain": [
       "[4, 7, 10, 14]"
      ]
     },
     "execution_count": 53,
     "metadata": {},
     "output_type": "execute_result"
    }
   ],
   "source": [
    "# Addition of two lists L1 and L2\n",
    "L1=[3,4,5,6]\n",
    "L2=[1,3,5,8]\n",
    "\n",
    "[L1[x] + L2[x] for x in range (len(L1))]"
   ]
  },
  {
   "cell_type": "markdown",
   "id": "68ce9949",
   "metadata": {},
   "source": [
    "### Tuple\n",
    "\n",
    "- A tuple is a sequence of items\n",
    "- tuple is created by using () or tuple()\n",
    "- tuple contains mixed data type\n",
    "- tuples are immutable\n",
    "- tuples are iterable"
   ]
  },
  {
   "cell_type": "code",
   "execution_count": 56,
   "id": "79692679",
   "metadata": {},
   "outputs": [],
   "source": [
    "# empty tuple objectt1\n",
    "t1=()\n",
    "t2=tuple()"
   ]
  },
  {
   "cell_type": "code",
   "execution_count": 59,
   "id": "00497658",
   "metadata": {},
   "outputs": [
    {
     "data": {
      "text/plain": [
       "tuple"
      ]
     },
     "execution_count": 59,
     "metadata": {},
     "output_type": "execute_result"
    }
   ],
   "source": []
  },
  {
   "cell_type": "code",
   "execution_count": 61,
   "id": "dca221ed",
   "metadata": {},
   "outputs": [
    {
     "data": {
      "text/plain": [
       "tuple"
      ]
     },
     "execution_count": 61,
     "metadata": {},
     "output_type": "execute_result"
    }
   ],
   "source": [
    "#type\n",
    "type(t1)"
   ]
  },
  {
   "cell_type": "code",
   "execution_count": null,
   "id": "53f28503",
   "metadata": {},
   "outputs": [],
   "source": [
    "#create a tuple with elements\n"
   ]
  },
  {
   "cell_type": "code",
   "execution_count": null,
   "id": "fe19c1eb",
   "metadata": {},
   "outputs": [],
   "source": [
    "t6=(23,4,'e','i')"
   ]
  },
  {
   "cell_type": "code",
   "execution_count": null,
   "id": "224c83fa",
   "metadata": {},
   "outputs": [],
   "source": [
    "# extract '4' from t6\n"
   ]
  },
  {
   "cell_type": "code",
   "execution_count": null,
   "id": "b5ffc49f",
   "metadata": {},
   "outputs": [],
   "source": [
    "# immutable\n"
   ]
  },
  {
   "cell_type": "code",
   "execution_count": null,
   "id": "ed17f488",
   "metadata": {},
   "outputs": [],
   "source": [
    "# convert tuple object into list and do changes."
   ]
  },
  {
   "cell_type": "code",
   "execution_count": null,
   "id": "3232f25a",
   "metadata": {},
   "outputs": [],
   "source": []
  },
  {
   "cell_type": "code",
   "execution_count": null,
   "id": "0f8d08ab",
   "metadata": {},
   "outputs": [],
   "source": []
  },
  {
   "cell_type": "code",
   "execution_count": null,
   "id": "51899aff",
   "metadata": {},
   "outputs": [],
   "source": []
  },
  {
   "cell_type": "code",
   "execution_count": null,
   "id": "4e887619",
   "metadata": {},
   "outputs": [],
   "source": [
    "#for loop\n"
   ]
  },
  {
   "cell_type": "markdown",
   "id": "64b34e73",
   "metadata": {},
   "source": [
    "### Dictionary\n",
    "- A collection of unordered set of key:value pairs.\n",
    "\n",
    "- Create dictionaries by using {} or dict()\n",
    "\n",
    "- Keys are unique.\n",
    "\n",
    "- values are accessed by using keys, not by index\n",
    "\n",
    "- Dictionaries are mutable.\n",
    "\n",
    "- Dicitonaries are iterables."
   ]
  },
  {
   "cell_type": "code",
   "execution_count": null,
   "id": "943bd3dc",
   "metadata": {},
   "outputs": [],
   "source": [
    "# empty dict:\n"
   ]
  },
  {
   "cell_type": "code",
   "execution_count": null,
   "id": "d5219fc2",
   "metadata": {},
   "outputs": [],
   "source": []
  },
  {
   "cell_type": "code",
   "execution_count": null,
   "id": "648f16e7",
   "metadata": {},
   "outputs": [],
   "source": [
    "#type\n"
   ]
  },
  {
   "cell_type": "code",
   "execution_count": null,
   "id": "bf07a54c",
   "metadata": {},
   "outputs": [],
   "source": [
    "# create dict of mixed data types\n",
    "\n"
   ]
  },
  {
   "cell_type": "code",
   "execution_count": null,
   "id": "84981051",
   "metadata": {},
   "outputs": [],
   "source": []
  },
  {
   "cell_type": "code",
   "execution_count": null,
   "id": "514b4604",
   "metadata": {},
   "outputs": [],
   "source": [
    "# keys() & values() method\n"
   ]
  },
  {
   "cell_type": "code",
   "execution_count": null,
   "id": "8dd4af6e",
   "metadata": {},
   "outputs": [],
   "source": []
  },
  {
   "cell_type": "code",
   "execution_count": null,
   "id": "5c4ea3dc",
   "metadata": {},
   "outputs": [],
   "source": [
    "#items() method"
   ]
  },
  {
   "cell_type": "code",
   "execution_count": 62,
   "id": "7226655e",
   "metadata": {},
   "outputs": [
    {
     "data": {
      "text/plain": [
       "{'first': [5, 6, 7],\n",
       " 'second': ['a', 'b'],\n",
       " 'third': (7, 8, 0),\n",
       " 'fourth': 'hello'}"
      ]
     },
     "execution_count": 62,
     "metadata": {},
     "output_type": "execute_result"
    }
   ],
   "source": [
    "#extract [5,6,7] from d4.\n",
    "d4={'first':[5,6,7],'second':[\"a\",\"b\"],'third':(7,8,0),'fourth':\"hello\"}\n",
    "d4"
   ]
  },
  {
   "cell_type": "code",
   "execution_count": 70,
   "id": "712417d1",
   "metadata": {},
   "outputs": [
    {
     "data": {
      "text/plain": [
       "6"
      ]
     },
     "execution_count": 70,
     "metadata": {},
     "output_type": "execute_result"
    }
   ],
   "source": [
    "#extract 6\n",
    "d4['first'][1]"
   ]
  },
  {
   "cell_type": "code",
   "execution_count": 69,
   "id": "45b22e8c",
   "metadata": {},
   "outputs": [
    {
     "data": {
      "text/plain": [
       "'b'"
      ]
     },
     "execution_count": 69,
     "metadata": {},
     "output_type": "execute_result"
    }
   ],
   "source": [
    "#extract 'b'\n",
    "d4['second'][1]"
   ]
  },
  {
   "cell_type": "code",
   "execution_count": 79,
   "id": "4f754e21",
   "metadata": {},
   "outputs": [
    {
     "data": {
      "text/plain": [
       "'z'"
      ]
     },
     "execution_count": 79,
     "metadata": {},
     "output_type": "execute_result"
    }
   ],
   "source": [
    "d5={'one':{'el_one':[3,4,6,{'el_two':'z'}]}}\n",
    "# extract 'z'\n",
    "d5['one']['el_one'][3]['el_two']"
   ]
  },
  {
   "cell_type": "code",
   "execution_count": null,
   "id": "bb456050",
   "metadata": {},
   "outputs": [],
   "source": [
    "# for loop\n"
   ]
  },
  {
   "cell_type": "code",
   "execution_count": 85,
   "id": "957948fa",
   "metadata": {},
   "outputs": [
    {
     "data": {
      "text/plain": [
       "{'new': [10, 4, 5, ['split', 'merge', 10]],\n",
       " 'old': ('s', 17, 0),\n",
       " 'mid': {'ram': 4, 'ravi': 8}}"
      ]
     },
     "execution_count": 85,
     "metadata": {},
     "output_type": "execute_result"
    }
   ],
   "source": [
    "#mutable\n",
    "# change the 1st element in the first key in the dictionary d6.\n",
    "d6={'new':[9,4,5,['split','merge',10]],'old':('s',17,0),'mid':{'ram':4,'ravi':8}}\n",
    "d6['new'][0]=10\n",
    "d6"
   ]
  },
  {
   "cell_type": "code",
   "execution_count": 86,
   "id": "a900fbef",
   "metadata": {},
   "outputs": [
    {
     "data": {
      "text/plain": [
       "{'new': [10, 4, 5, ['split', 'merge', 10]],\n",
       " 'old': ('s', 17, 0),\n",
       " 'middle': {'ram': 4, 'ravi': 8}}"
      ]
     },
     "execution_count": 86,
     "metadata": {},
     "output_type": "execute_result"
    }
   ],
   "source": [
    "# using pop() method to rename the key names in the dictionary\n",
    "d6['middle']=d6.pop('mid')\n",
    "d6"
   ]
  },
  {
   "cell_type": "code",
   "execution_count": 87,
   "id": "c5dc4bc9",
   "metadata": {},
   "outputs": [
    {
     "name": "stdout",
     "output_type": "stream",
     "text": [
      "Object `d6.update()   # press shift+tab will show the details about the given method.` not found.\n"
     ]
    }
   ],
   "source": [
    "?d6.update()   # press shift+tab will show the details about the given method."
   ]
  },
  {
   "cell_type": "code",
   "execution_count": 89,
   "id": "b6394772",
   "metadata": {},
   "outputs": [],
   "source": [
    "### map and filter function\n",
    "#square function\n",
    "\n",
    "#map function: map square function\n",
    "b=[2,3,4]\n",
    "# map(fun,iterable)\n"
   ]
  },
  {
   "cell_type": "code",
   "execution_count": 91,
   "id": "2acff138",
   "metadata": {},
   "outputs": [],
   "source": [
    "# filter function\n",
    "# filter the words from a list that dont start with the letter 's'\n",
    "seq=['soup','salad','food','great']\n",
    "                         ## without list, it will returns the generator object.\n",
    "# filter(fun,iterable)\n"
   ]
  },
  {
   "cell_type": "markdown",
   "id": "1ae59297",
   "metadata": {},
   "source": [
    "### Sets\n",
    "\n",
    "- Unordered sequence of elements\n",
    "\n",
    "- create set objects by using {} or set()"
   ]
  },
  {
   "cell_type": "code",
   "execution_count": 92,
   "id": "82bc9455",
   "metadata": {},
   "outputs": [],
   "source": [
    "# create empty set\n",
    "s1=set()"
   ]
  },
  {
   "cell_type": "code",
   "execution_count": 94,
   "id": "814a6f8c",
   "metadata": {},
   "outputs": [
    {
     "data": {
      "text/plain": [
       "set"
      ]
     },
     "execution_count": 94,
     "metadata": {},
     "output_type": "execute_result"
    }
   ],
   "source": [
    "type(s1)"
   ]
  },
  {
   "cell_type": "code",
   "execution_count": 95,
   "id": "06678c64",
   "metadata": {},
   "outputs": [],
   "source": [
    "s3={\"Monday\",\"Tuesday\",\"Wednesday\",\"Thursday\",\"Friday\"}"
   ]
  },
  {
   "cell_type": "code",
   "execution_count": 96,
   "id": "f2feecba",
   "metadata": {},
   "outputs": [],
   "source": [
    "s4=set([\"Monday\",\"Tuesday\",\"Wednesday\",\"Thursday\",\"Friday\"])"
   ]
  },
  {
   "cell_type": "code",
   "execution_count": 99,
   "id": "e1cfcce6",
   "metadata": {},
   "outputs": [
    {
     "data": {
      "text/plain": [
       "{'Friday', 'Thursday', 'Tuesday', 'Wednesday'}"
      ]
     },
     "execution_count": 99,
     "metadata": {},
     "output_type": "execute_result"
    }
   ],
   "source": [
    "# extract \"Friday\"\n",
    "s4.remove(\"Monday\")\n",
    "s4"
   ]
  },
  {
   "cell_type": "code",
   "execution_count": 100,
   "id": "3b5dee27",
   "metadata": {},
   "outputs": [
    {
     "data": {
      "text/plain": [
       "{'Friday', 'Saturday', 'Thursday', 'Tuesday', 'Wednesday'}"
      ]
     },
     "execution_count": 100,
     "metadata": {},
     "output_type": "execute_result"
    }
   ],
   "source": [
    "# add element in the set s4.\n",
    "s4.add(\"Saturday\")\n",
    "s4"
   ]
  },
  {
   "cell_type": "code",
   "execution_count": 104,
   "id": "d1da247e",
   "metadata": {},
   "outputs": [
    {
     "name": "stdout",
     "output_type": "stream",
     "text": [
      "{'Feb', 'Tuesday', 'Mar', 'Jan', 'June', 'May', 'Wednesday', 'Friday', 'Saturday', 'Apr', 'Thursday'}\n"
     ]
    }
   ],
   "source": [
    "#update\n",
    "s4.update([\"Jan\",\"Feb\",'Mar',\"Apr\",\"May\",\"June\"])\n",
    "print(s4)"
   ]
  },
  {
   "cell_type": "code",
   "execution_count": 105,
   "id": "4bdbc55a",
   "metadata": {},
   "outputs": [
    {
     "name": "stdout",
     "output_type": "stream",
     "text": [
      "{'Feb', 'Tuesday', 'Mar', 'Jan', 'June', 'Wednesday', 'Friday', 'Saturday', 'Apr', 'Thursday'}\n"
     ]
    }
   ],
   "source": [
    "# removing the items\n",
    "s4.discard(\"May\")\n",
    "print(s4)"
   ]
  },
  {
   "cell_type": "code",
   "execution_count": 106,
   "id": "75e1b783",
   "metadata": {},
   "outputs": [
    {
     "name": "stdout",
     "output_type": "stream",
     "text": [
      "{'Feb', 'Tuesday', 'Jan', 'June', 'Wednesday', 'Friday', 'Saturday', 'Apr', 'Thursday'}\n"
     ]
    }
   ],
   "source": [
    "s4.remove(\"Mar\")\n",
    "print(s4)\n",
    "#the remove() method will raise an error if the specified item does not exist,\n",
    "# and the discard() method will not."
   ]
  },
  {
   "cell_type": "code",
   "execution_count": 107,
   "id": "23b8aece",
   "metadata": {},
   "outputs": [
    {
     "name": "stdout",
     "output_type": "stream",
     "text": [
      "{'Tuesday', 'Jan', 'June', 'Wednesday', 'Friday', 'Saturday', 'Apr', 'Thursday'}\n"
     ]
    }
   ],
   "source": [
    "s4.pop()\n",
    "print(s4)"
   ]
  },
  {
   "cell_type": "code",
   "execution_count": null,
   "id": "dbf10068",
   "metadata": {},
   "outputs": [],
   "source": [
    "--------------------------------------------------End--------------------------------------------------------------"
   ]
  }
 ],
 "metadata": {
  "kernelspec": {
   "display_name": "Python 3 (ipykernel)",
   "language": "python",
   "name": "python3"
  },
  "language_info": {
   "codemirror_mode": {
    "name": "ipython",
    "version": 3
   },
   "file_extension": ".py",
   "mimetype": "text/x-python",
   "name": "python",
   "nbconvert_exporter": "python",
   "pygments_lexer": "ipython3",
   "version": "3.9.13"
  }
 },
 "nbformat": 4,
 "nbformat_minor": 5
}
