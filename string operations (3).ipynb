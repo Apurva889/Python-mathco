{
 "cells": [
  {
   "cell_type": "markdown",
   "id": "f10429d1",
   "metadata": {},
   "source": [
    "### Strings : operations & slicing"
   ]
  },
  {
   "cell_type": "code",
   "execution_count": null,
   "id": "98b12d01",
   "metadata": {},
   "outputs": [],
   "source": [
    "# Iterable: ability to do index and write for loop on that object"
   ]
  },
  {
   "cell_type": "markdown",
   "id": "dd021f3e",
   "metadata": {},
   "source": [
    "#### indexing & Slicing"
   ]
  },
  {
   "cell_type": "code",
   "execution_count": 3,
   "id": "32f990d4",
   "metadata": {},
   "outputs": [
    {
     "data": {
      "text/plain": [
       "'t'"
      ]
     },
     "execution_count": 3,
     "metadata": {},
     "output_type": "execute_result"
    }
   ],
   "source": [
    "new='Saturday'\n",
    "new[2]"
   ]
  },
  {
   "cell_type": "code",
   "execution_count": 6,
   "id": "68f70ef8",
   "metadata": {},
   "outputs": [
    {
     "data": {
      "text/plain": [
       "'t'"
      ]
     },
     "execution_count": 6,
     "metadata": {},
     "output_type": "execute_result"
    }
   ],
   "source": [
    "# extract 't' --> new\n",
    "# Python index starts from 0.\n",
    "\n",
    "new[2]"
   ]
  },
  {
   "cell_type": "code",
   "execution_count": 7,
   "id": "ac370f30",
   "metadata": {},
   "outputs": [
    {
     "data": {
      "text/plain": [
       "'u'"
      ]
     },
     "execution_count": 7,
     "metadata": {},
     "output_type": "execute_result"
    }
   ],
   "source": [
    "# extract 'u'\n",
    "new[3]"
   ]
  },
  {
   "cell_type": "code",
   "execution_count": 8,
   "id": "55a06f81",
   "metadata": {},
   "outputs": [
    {
     "data": {
      "text/plain": [
       "'Saturday'"
      ]
     },
     "execution_count": 8,
     "metadata": {},
     "output_type": "execute_result"
    }
   ],
   "source": [
    "# extract 'u' to 'a'\n",
    "  # [start:end]end is exclusive\n",
    "new[:]\n"
   ]
  },
  {
   "cell_type": "code",
   "execution_count": 10,
   "id": "b8916ba5",
   "metadata": {},
   "outputs": [
    {
     "data": {
      "text/plain": [
       "'at'"
      ]
     },
     "execution_count": 10,
     "metadata": {},
     "output_type": "execute_result"
    }
   ],
   "source": [
    "# Extract 1 to 3rd position elements using :\n",
    "# starts at 1 end with 3rd position\n",
    "new[1:3]\n"
   ]
  },
  {
   "cell_type": "code",
   "execution_count": null,
   "id": "2d15f79b",
   "metadata": {},
   "outputs": [],
   "source": []
  },
  {
   "cell_type": "code",
   "execution_count": 11,
   "id": "ef5e5436",
   "metadata": {},
   "outputs": [
    {
     "data": {
      "text/plain": [
       "'Saturday'"
      ]
     },
     "execution_count": 11,
     "metadata": {},
     "output_type": "execute_result"
    }
   ],
   "source": [
    "# display all the elements using :\n",
    "new[:]\n"
   ]
  },
  {
   "cell_type": "code",
   "execution_count": null,
   "id": "89c1f7eb",
   "metadata": {},
   "outputs": [],
   "source": [
    "# negative indexing"
   ]
  },
  {
   "cell_type": "code",
   "execution_count": 12,
   "id": "c9ab3cbe",
   "metadata": {},
   "outputs": [
    {
     "data": {
      "text/plain": [
       "'y'"
      ]
     },
     "execution_count": 12,
     "metadata": {},
     "output_type": "execute_result"
    }
   ],
   "source": [
    "new[-1]"
   ]
  },
  {
   "cell_type": "code",
   "execution_count": null,
   "id": "d64a9bbb",
   "metadata": {},
   "outputs": [],
   "source": []
  },
  {
   "cell_type": "code",
   "execution_count": null,
   "id": "f734152b",
   "metadata": {},
   "outputs": [],
   "source": [
    "# Extract odd position elements\n",
    "# [start:end:step]\n",
    "new[]"
   ]
  },
  {
   "cell_type": "code",
   "execution_count": null,
   "id": "33e25b34",
   "metadata": {},
   "outputs": [],
   "source": [
    "# based on index\n"
   ]
  },
  {
   "cell_type": "code",
   "execution_count": null,
   "id": "185d418e",
   "metadata": {},
   "outputs": [],
   "source": []
  },
  {
   "cell_type": "code",
   "execution_count": null,
   "id": "cd81b1ef",
   "metadata": {},
   "outputs": [],
   "source": []
  },
  {
   "cell_type": "code",
   "execution_count": null,
   "id": "e33ecd30",
   "metadata": {},
   "outputs": [],
   "source": [
    "# based on position\n"
   ]
  },
  {
   "cell_type": "code",
   "execution_count": null,
   "id": "ad2873ce",
   "metadata": {},
   "outputs": [],
   "source": [
    "# # Extract odd posiiton elements in the reverse order\n"
   ]
  },
  {
   "cell_type": "code",
   "execution_count": 18,
   "id": "8e5340d4",
   "metadata": {},
   "outputs": [],
   "source": [
    "# strings are immutable\n",
    "# Cannot do changes on a created string object.\n",
    "first=\"welcome\"\n",
    "second=\"to the country\""
   ]
  },
  {
   "cell_type": "code",
   "execution_count": 19,
   "id": "195d4dc9",
   "metadata": {},
   "outputs": [
    {
     "data": {
      "text/plain": [
       "'selcome'"
      ]
     },
     "execution_count": 19,
     "metadata": {},
     "output_type": "execute_result"
    }
   ],
   "source": [
    "# change first letter 'w' into 'S'\n",
    "first.replace('w','s',1)\n"
   ]
  },
  {
   "cell_type": "code",
   "execution_count": 21,
   "id": "d3c9785d",
   "metadata": {},
   "outputs": [
    {
     "ename": "TypeError",
     "evalue": "string indices must be integers",
     "output_type": "error",
     "traceback": [
      "\u001b[1;31m---------------------------------------------------------------------------\u001b[0m",
      "\u001b[1;31mTypeError\u001b[0m                                 Traceback (most recent call last)",
      "\u001b[1;32m~\\AppData\\Local\\Temp\\ipykernel_2796\\4124527169.py\u001b[0m in \u001b[0;36m<module>\u001b[1;34m\u001b[0m\n\u001b[0;32m      1\u001b[0m \u001b[1;31m# change 3rd position element in the 'first' string object using '+'\u001b[0m\u001b[1;33m\u001b[0m\u001b[1;33m\u001b[0m\u001b[0m\n\u001b[0;32m      2\u001b[0m \u001b[1;31m# change 'l' into 'm'\u001b[0m\u001b[1;33m\u001b[0m\u001b[1;33m\u001b[0m\u001b[0m\n\u001b[1;32m----> 3\u001b[1;33m \u001b[0mfirst\u001b[0m\u001b[1;33m[\u001b[0m\u001b[1;34m'l'\u001b[0m\u001b[1;33m]\u001b[0m\u001b[1;33m+\u001b[0m\u001b[1;34m'm'\u001b[0m\u001b[1;33m\u001b[0m\u001b[1;33m\u001b[0m\u001b[0m\n\u001b[0m",
      "\u001b[1;31mTypeError\u001b[0m: string indices must be integers"
     ]
    }
   ],
   "source": [
    "# change 3rd position element in the 'first' string object using '+'\n",
    "# change 'l' into 'm'\n",
    "first['l']+"
   ]
  },
  {
   "cell_type": "code",
   "execution_count": null,
   "id": "42f4fd9c",
   "metadata": {},
   "outputs": [],
   "source": []
  },
  {
   "cell_type": "code",
   "execution_count": null,
   "id": "58495f2e",
   "metadata": {},
   "outputs": [],
   "source": [
    "#add value 7 to the string object 'second'\n"
   ]
  },
  {
   "cell_type": "code",
   "execution_count": 22,
   "id": "e384396b",
   "metadata": {},
   "outputs": [
    {
     "data": {
      "text/plain": [
       "'to 6the country'"
      ]
     },
     "execution_count": 22,
     "metadata": {},
     "output_type": "execute_result"
    }
   ],
   "source": [
    "# add value 6 to the string object 'second ' at 4th position\n",
    "second[:3]+'6'+second[3:]\n"
   ]
  },
  {
   "cell_type": "code",
   "execution_count": 23,
   "id": "5b43f165",
   "metadata": {},
   "outputs": [
    {
     "data": {
      "text/plain": [
       "'welcomewelcomewelcome'"
      ]
     },
     "execution_count": 23,
     "metadata": {},
     "output_type": "execute_result"
    }
   ],
   "source": [
    "# display the element of 'first' object 3 times\n",
    "first*3\n"
   ]
  },
  {
   "cell_type": "code",
   "execution_count": null,
   "id": "6d0bc282",
   "metadata": {},
   "outputs": [],
   "source": [
    "# Add two string objects using '+'"
   ]
  },
  {
   "cell_type": "code",
   "execution_count": 25,
   "id": "930c4aef",
   "metadata": {},
   "outputs": [
    {
     "data": {
      "text/plain": [
       "'welcome to the country'"
      ]
     },
     "execution_count": 25,
     "metadata": {},
     "output_type": "execute_result"
    }
   ],
   "source": [
    "first+' '+second"
   ]
  },
  {
   "cell_type": "code",
   "execution_count": null,
   "id": "36909d30",
   "metadata": {},
   "outputs": [],
   "source": []
  },
  {
   "cell_type": "markdown",
   "id": "1595b870",
   "metadata": {},
   "source": [
    "### Hands -on-Exercise"
   ]
  },
  {
   "cell_type": "code",
   "execution_count": 27,
   "id": "ae349455",
   "metadata": {},
   "outputs": [],
   "source": [
    "# create a string object str1=\"Welcome to our country\"\n",
    "str1=\"Welcome to our country\""
   ]
  },
  {
   "cell_type": "code",
   "execution_count": 31,
   "id": "84cc8037",
   "metadata": {},
   "outputs": [
    {
     "data": {
      "text/plain": [
       "'country'"
      ]
     },
     "execution_count": 31,
     "metadata": {},
     "output_type": "execute_result"
    }
   ],
   "source": [
    "# Extract the word 'country' from the given string 'str1'\n",
    "str1[15:]"
   ]
  },
  {
   "cell_type": "code",
   "execution_count": 33,
   "id": "432a3013",
   "metadata": {},
   "outputs": [
    {
     "data": {
      "text/plain": [
       "'Wloet u onr'"
      ]
     },
     "execution_count": 33,
     "metadata": {},
     "output_type": "execute_result"
    }
   ],
   "source": [
    "# Extract the even index elements in the string 'str1'\n",
    "str1[::2]"
   ]
  },
  {
   "cell_type": "markdown",
   "id": "984bfab7",
   "metadata": {},
   "source": [
    "# add value 6 in the 3rd index of the string object str1\n"
   ]
  },
  {
   "cell_type": "code",
   "execution_count": null,
   "id": "ad3bb776",
   "metadata": {},
   "outputs": [],
   "source": [
    "#Python program to capitalize the first and last character of each word in a strings"
   ]
  },
  {
   "cell_type": "markdown",
   "id": "e27a8c6d",
   "metadata": {},
   "source": [
    "-------------------------------------------------- End -----------------------------------------------"
   ]
  },
  {
   "cell_type": "code",
   "execution_count": 35,
   "id": "e13ee747",
   "metadata": {},
   "outputs": [
    {
     "data": {
      "text/plain": [
       "'Welcome to our country'"
      ]
     },
     "execution_count": 35,
     "metadata": {},
     "output_type": "execute_result"
    }
   ],
   "source": [
    "str1.capitalize()"
   ]
  },
  {
   "cell_type": "code",
   "execution_count": 36,
   "id": "c0d12d33",
   "metadata": {},
   "outputs": [
    {
     "name": "stdout",
     "output_type": "stream",
     "text": [
      "['__add__', '__class__', '__contains__', '__delattr__', '__dir__', '__doc__', '__eq__', '__format__', '__ge__', '__getattribute__', '__getitem__', '__getnewargs__', '__gt__', '__hash__', '__init__', '__init_subclass__', '__iter__', '__le__', '__len__', '__lt__', '__mod__', '__mul__', '__ne__', '__new__', '__reduce__', '__reduce_ex__', '__repr__', '__rmod__', '__rmul__', '__setattr__', '__sizeof__', '__str__', '__subclasshook__', 'capitalize', 'casefold', 'center', 'count', 'encode', 'endswith', 'expandtabs', 'find', 'format', 'format_map', 'index', 'isalnum', 'isalpha', 'isascii', 'isdecimal', 'isdigit', 'isidentifier', 'islower', 'isnumeric', 'isprintable', 'isspace', 'istitle', 'isupper', 'join', 'ljust', 'lower', 'lstrip', 'maketrans', 'partition', 'removeprefix', 'removesuffix', 'replace', 'rfind', 'rindex', 'rjust', 'rpartition', 'rsplit', 'rstrip', 'split', 'splitlines', 'startswith', 'strip', 'swapcase', 'title', 'translate', 'upper', 'zfill']\n"
     ]
    }
   ],
   "source": [
    "print(dir(new))"
   ]
  },
  {
   "cell_type": "code",
   "execution_count": 39,
   "id": "3f3825fd",
   "metadata": {},
   "outputs": [],
   "source": []
  },
  {
   "cell_type": "code",
   "execution_count": null,
   "id": "ba5306f0",
   "metadata": {},
   "outputs": [],
   "source": []
  }
 ],
 "metadata": {
  "kernelspec": {
   "display_name": "Python 3 (ipykernel)",
   "language": "python",
   "name": "python3"
  },
  "language_info": {
   "codemirror_mode": {
    "name": "ipython",
    "version": 3
   },
   "file_extension": ".py",
   "mimetype": "text/x-python",
   "name": "python",
   "nbconvert_exporter": "python",
   "pygments_lexer": "ipython3",
   "version": "3.9.13"
  }
 },
 "nbformat": 4,
 "nbformat_minor": 5
}
