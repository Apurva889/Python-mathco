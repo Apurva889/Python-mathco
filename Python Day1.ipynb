{
 "cells": [
  {
   "cell_type": "code",
   "execution_count": 2,
   "id": "ff2fdb89",
   "metadata": {},
   "outputs": [],
   "source": [
    "a='python'"
   ]
  },
  {
   "cell_type": "code",
   "execution_count": 3,
   "id": "5ccd2027",
   "metadata": {},
   "outputs": [
    {
     "data": {
      "text/plain": [
       "'python'"
      ]
     },
     "execution_count": 3,
     "metadata": {},
     "output_type": "execute_result"
    }
   ],
   "source": [
    "a"
   ]
  },
  {
   "cell_type": "code",
   "execution_count": 5,
   "id": "cbf7db94",
   "metadata": {},
   "outputs": [
    {
     "name": "stdout",
     "output_type": "stream",
     "text": [
      "Hello World\n"
     ]
    }
   ],
   "source": [
    "print(\"Hello World\")"
   ]
  },
  {
   "cell_type": "code",
   "execution_count": 17,
   "id": "67baf8e8",
   "metadata": {},
   "outputs": [],
   "source": [
    "_firstname=\"Apurva\""
   ]
  },
  {
   "cell_type": "code",
   "execution_count": 18,
   "id": "8c571a6b",
   "metadata": {},
   "outputs": [
    {
     "data": {
      "text/plain": [
       "'Apurva'"
      ]
     },
     "execution_count": 18,
     "metadata": {},
     "output_type": "execute_result"
    }
   ],
   "source": [
    "first_name"
   ]
  },
  {
   "cell_type": "markdown",
   "id": "318bbb19",
   "metadata": {},
   "source": [
    "# My first program"
   ]
  },
  {
   "cell_type": "code",
   "execution_count": 20,
   "id": "0aa6b65d",
   "metadata": {},
   "outputs": [],
   "source": [
    "a=10\n",
    "pi=3.14\n",
    "name=\"python\""
   ]
  },
  {
   "cell_type": "code",
   "execution_count": 21,
   "id": "d63348d2",
   "metadata": {},
   "outputs": [
    {
     "data": {
      "text/plain": [
       "'python'"
      ]
     },
     "execution_count": 21,
     "metadata": {},
     "output_type": "execute_result"
    }
   ],
   "source": [
    "name"
   ]
  },
  {
   "cell_type": "code",
   "execution_count": 22,
   "id": "412785ad",
   "metadata": {},
   "outputs": [
    {
     "data": {
      "text/plain": [
       "3.14"
      ]
     },
     "execution_count": 22,
     "metadata": {},
     "output_type": "execute_result"
    }
   ],
   "source": [
    "pi"
   ]
  },
  {
   "cell_type": "code",
   "execution_count": 25,
   "id": "ca5e47b7",
   "metadata": {},
   "outputs": [
    {
     "data": {
      "text/plain": [
       "10"
      ]
     },
     "execution_count": 25,
     "metadata": {},
     "output_type": "execute_result"
    }
   ],
   "source": [
    "a"
   ]
  },
  {
   "cell_type": "code",
   "execution_count": 27,
   "id": "c9693849",
   "metadata": {},
   "outputs": [
    {
     "data": {
      "text/plain": [
       "(10, 3.14, 'python')"
      ]
     },
     "execution_count": 27,
     "metadata": {},
     "output_type": "execute_result"
    }
   ],
   "source": [
    "a,pi,name"
   ]
  },
  {
   "cell_type": "code",
   "execution_count": 31,
   "id": "f9326c8d",
   "metadata": {},
   "outputs": [],
   "source": [
    "b=20\n",
    "c=30"
   ]
  },
  {
   "cell_type": "code",
   "execution_count": 32,
   "id": "ca7d0056",
   "metadata": {},
   "outputs": [
    {
     "data": {
      "text/plain": [
       "(20, 30)"
      ]
     },
     "execution_count": 32,
     "metadata": {},
     "output_type": "execute_result"
    }
   ],
   "source": [
    "b,c"
   ]
  },
  {
   "cell_type": "code",
   "execution_count": 33,
   "id": "535bb0fc",
   "metadata": {},
   "outputs": [],
   "source": [
    "a=1;pi=3.14;name=\"python\""
   ]
  },
  {
   "cell_type": "code",
   "execution_count": 34,
   "id": "83149cfa",
   "metadata": {
    "scrolled": true
   },
   "outputs": [
    {
     "data": {
      "text/plain": [
       "(1, 3.14, 'python')"
      ]
     },
     "execution_count": 34,
     "metadata": {},
     "output_type": "execute_result"
    }
   ],
   "source": [
    "a,pi,name"
   ]
  },
  {
   "cell_type": "code",
   "execution_count": 35,
   "id": "a5cdb8b2",
   "metadata": {},
   "outputs": [],
   "source": [
    "a=b=c=10"
   ]
  },
  {
   "cell_type": "code",
   "execution_count": 36,
   "id": "26f6ba92",
   "metadata": {},
   "outputs": [
    {
     "data": {
      "text/plain": [
       "(10, 10, 10)"
      ]
     },
     "execution_count": 36,
     "metadata": {},
     "output_type": "execute_result"
    }
   ],
   "source": [
    "a,b,c"
   ]
  },
  {
   "cell_type": "code",
   "execution_count": 37,
   "id": "74b3be55",
   "metadata": {},
   "outputs": [
    {
     "data": {
      "text/plain": [
       "int"
      ]
     },
     "execution_count": 37,
     "metadata": {},
     "output_type": "execute_result"
    }
   ],
   "source": [
    "type(a)"
   ]
  },
  {
   "cell_type": "code",
   "execution_count": 38,
   "id": "2402aaa3",
   "metadata": {},
   "outputs": [
    {
     "data": {
      "text/plain": [
       "float"
      ]
     },
     "execution_count": 38,
     "metadata": {},
     "output_type": "execute_result"
    }
   ],
   "source": [
    "type(pi)"
   ]
  },
  {
   "cell_type": "code",
   "execution_count": 39,
   "id": "7f4034a1",
   "metadata": {},
   "outputs": [
    {
     "data": {
      "text/plain": [
       "str"
      ]
     },
     "execution_count": 39,
     "metadata": {},
     "output_type": "execute_result"
    }
   ],
   "source": [
    "type(name)"
   ]
  },
  {
   "cell_type": "code",
   "execution_count": 40,
   "id": "116ca3ee",
   "metadata": {},
   "outputs": [
    {
     "data": {
      "text/plain": [
       "20"
      ]
     },
     "execution_count": 40,
     "metadata": {},
     "output_type": "execute_result"
    }
   ],
   "source": [
    "a+10"
   ]
  },
  {
   "cell_type": "code",
   "execution_count": 41,
   "id": "00f910d2",
   "metadata": {},
   "outputs": [
    {
     "data": {
      "text/plain": [
       "40"
      ]
     },
     "execution_count": 41,
     "metadata": {},
     "output_type": "execute_result"
    }
   ],
   "source": [
    "b+30"
   ]
  },
  {
   "cell_type": "code",
   "execution_count": 47,
   "id": "ef9bdb98",
   "metadata": {},
   "outputs": [
    {
     "name": "stdout",
     "output_type": "stream",
     "text": [
      "Enter the name - Apurva Sawant\n"
     ]
    }
   ],
   "source": [
    "a=input(\"Enter the name - \")"
   ]
  },
  {
   "cell_type": "code",
   "execution_count": 48,
   "id": "bfd9caeb",
   "metadata": {},
   "outputs": [
    {
     "data": {
      "text/plain": [
       "str"
      ]
     },
     "execution_count": 48,
     "metadata": {},
     "output_type": "execute_result"
    }
   ],
   "source": [
    "type(a)"
   ]
  },
  {
   "cell_type": "code",
   "execution_count": 61,
   "id": "0b12f629",
   "metadata": {},
   "outputs": [
    {
     "name": "stdout",
     "output_type": "stream",
     "text": [
      "Enter a number - 23\n",
      "Enter a number to add - 44\n",
      "a + b =  67\n"
     ]
    }
   ],
   "source": [
    "a=int(input(\"Enter a number - \"))\n",
    "b=int(input(\"Enter a number to add - \"))\n",
    "print(\"a + b = \",a+b)"
   ]
  },
  {
   "cell_type": "code",
   "execution_count": 63,
   "id": "dc8bc815",
   "metadata": {},
   "outputs": [
    {
     "data": {
      "text/plain": [
       "int"
      ]
     },
     "execution_count": 63,
     "metadata": {},
     "output_type": "execute_result"
    }
   ],
   "source": [
    "type(a+b)"
   ]
  },
  {
   "cell_type": "code",
   "execution_count": 65,
   "id": "b0f8d529",
   "metadata": {},
   "outputs": [
    {
     "name": "stdout",
     "output_type": "stream",
     "text": [
      "Enter a number - 23.66\n",
      "Enter another number - 34.7878\n",
      "a+b =  58.4478\n"
     ]
    }
   ],
   "source": [
    "a=float(input(\"Enter a number - \"))\n",
    "b=float(input(\"Enter another number - \"))\n",
    "print(\"a+b = \",a+b)"
   ]
  },
  {
   "cell_type": "code",
   "execution_count": 66,
   "id": "17d8f8f8",
   "metadata": {},
   "outputs": [
    {
     "data": {
      "text/plain": [
       "float"
      ]
     },
     "execution_count": 66,
     "metadata": {},
     "output_type": "execute_result"
    }
   ],
   "source": [
    "type(a+b)"
   ]
  },
  {
   "cell_type": "code",
   "execution_count": 71,
   "id": "5c4781af",
   "metadata": {},
   "outputs": [
    {
     "name": "stdout",
     "output_type": "stream",
     "text": [
      "Hello World Python Programming\n"
     ]
    }
   ],
   "source": [
    "print(\"Hello World\",end=' ')\n",
    "print(\"Python Programming\")"
   ]
  },
  {
   "cell_type": "code",
   "execution_count": 72,
   "id": "49a04ed3",
   "metadata": {},
   "outputs": [
    {
     "name": "stdout",
     "output_type": "stream",
     "text": [
      "New year.2023.See you soon\n"
     ]
    }
   ],
   "source": [
    "print('New year','2023','See you soon',sep='.')"
   ]
  },
  {
   "cell_type": "code",
   "execution_count": 75,
   "id": "3b819edb",
   "metadata": {},
   "outputs": [
    {
     "name": "stdout",
     "output_type": "stream",
     "text": [
      "Hi pi value is 3.14\n"
     ]
    }
   ],
   "source": [
    "a=3.14\n",
    "print(\"Hi pi value is {}\".format(a))"
   ]
  },
  {
   "cell_type": "code",
   "execution_count": 76,
   "id": "79eb6b53",
   "metadata": {},
   "outputs": [
    {
     "name": "stdout",
     "output_type": "stream",
     "text": [
      "Enter a number: 23\n",
      "Enter another number: 45\n",
      "My first number is 23 and second number is 45\n"
     ]
    }
   ],
   "source": [
    "a=int(input(\"Enter a number: \"))\n",
    "b=int(input(\"Enter another number: \"))\n",
    "print(\"My first number is {} and second number is {}\".format(a,b))"
   ]
  },
  {
   "cell_type": "code",
   "execution_count": 78,
   "id": "e19a19f4",
   "metadata": {},
   "outputs": [
    {
     "name": "stdout",
     "output_type": "stream",
     "text": [
      "Enter a number: 23.556\n",
      "Enter another number: 45\n",
      "My first number is 23.556000 and another number is 45.\n"
     ]
    }
   ],
   "source": [
    "a=float(input(\"Enter a number: \"))\n",
    "b=int(input(\"Enter another number: \"))\n",
    "print(\"My first number is %f and another number is %d.\"%(a,b))"
   ]
  },
  {
   "cell_type": "code",
   "execution_count": 80,
   "id": "601761fd",
   "metadata": {},
   "outputs": [
    {
     "data": {
      "text/plain": [
       "3.3333333333333335"
      ]
     },
     "execution_count": 80,
     "metadata": {},
     "output_type": "execute_result"
    }
   ],
   "source": [
    "c=10/3"
   ]
  },
  {
   "cell_type": "code",
   "execution_count": 88,
   "id": "d8f0e5f2",
   "metadata": {},
   "outputs": [
    {
     "name": "stdout",
     "output_type": "stream",
     "text": [
      "C=3\n"
     ]
    }
   ],
   "source": [
    "print(\"C=%0.f\"%(c))"
   ]
  },
  {
   "cell_type": "code",
   "execution_count": 89,
   "id": "ccab2b2b",
   "metadata": {},
   "outputs": [],
   "source": [
    "a=10"
   ]
  },
  {
   "cell_type": "code",
   "execution_count": 90,
   "id": "3180e9ff",
   "metadata": {},
   "outputs": [],
   "source": [
    "b=float(a)"
   ]
  },
  {
   "cell_type": "code",
   "execution_count": 91,
   "id": "89bb91f3",
   "metadata": {},
   "outputs": [
    {
     "data": {
      "text/plain": [
       "10.0"
      ]
     },
     "execution_count": 91,
     "metadata": {},
     "output_type": "execute_result"
    }
   ],
   "source": [
    "b"
   ]
  },
  {
   "cell_type": "code",
   "execution_count": 92,
   "id": "71a9423f",
   "metadata": {},
   "outputs": [],
   "source": [
    "a=10.1111"
   ]
  },
  {
   "cell_type": "code",
   "execution_count": 93,
   "id": "1b4f0924",
   "metadata": {},
   "outputs": [],
   "source": [
    "b=int(a)"
   ]
  },
  {
   "cell_type": "code",
   "execution_count": 94,
   "id": "0f146149",
   "metadata": {},
   "outputs": [
    {
     "data": {
      "text/plain": [
       "10"
      ]
     },
     "execution_count": 94,
     "metadata": {},
     "output_type": "execute_result"
    }
   ],
   "source": [
    "b"
   ]
  },
  {
   "cell_type": "code",
   "execution_count": 96,
   "id": "75a7501c",
   "metadata": {},
   "outputs": [],
   "source": [
    "#USERNAME,ID,SALARY,USE TYPE CONVERSION AND FORMAT THE OUTPUT"
   ]
  },
  {
   "cell_type": "code",
   "execution_count": 3,
   "id": "c5f3eb86",
   "metadata": {},
   "outputs": [
    {
     "name": "stdout",
     "output_type": "stream",
     "text": [
      "Username - Apurva\n",
      "Enter Id: 2512\n",
      "Enter Salary: 40000\n",
      "Username: Apurva,Id: 2512,Salary: 40000\n"
     ]
    }
   ],
   "source": [
    "username=input(\"Username - \")\n",
    "Id=int(input(\"Enter Id: \"))\n",
    "salary=float(input(\"Enter Salary: \"))\n",
    "salary1=int(salary)\n",
    "print(\"Username: {},Id: {},Salary: {}\".format(username,Id,salary1))"
   ]
  },
  {
   "cell_type": "code",
   "execution_count": 2,
   "id": "f8d80ea5",
   "metadata": {},
   "outputs": [
    {
     "name": "stdout",
     "output_type": "stream",
     "text": [
      "48\n"
     ]
    }
   ],
   "source": [
    "#explicit Copnversion\n",
    "num_string=\"25\"\n",
    "num_integer=23\n",
    "num_string=int(num_string)\n",
    "sum=num_integer+num_string\n",
    "print(sum)"
   ]
  },
  {
   "cell_type": "code",
   "execution_count": 5,
   "id": "68b587c0",
   "metadata": {},
   "outputs": [
    {
     "name": "stdout",
     "output_type": "stream",
     "text": [
      "13 7 30 3.3333333333333335 3 1 1000\n"
     ]
    }
   ],
   "source": [
    "a=10\n",
    "b=3\n",
    "print(a+b,a-b,a*b,a/b,a//b,a%b,a**b)"
   ]
  },
  {
   "cell_type": "code",
   "execution_count": 5,
   "id": "6110df75",
   "metadata": {},
   "outputs": [
    {
     "name": "stdout",
     "output_type": "stream",
     "text": [
      "18 is the greatest number.\n"
     ]
    }
   ],
   "source": [
    "a=10\n",
    "b=15\n",
    "c=18\n",
    "if(a>b and a>c):\n",
    "    print(\"{} is the greatest number.\".format(a))\n",
    "elif(b>a and b>c):\n",
    "    print(\"{} is the greatest number.\".format(b))\n",
    "else:\n",
    "    print(\"{} is the greatest number.\".format(c))"
   ]
  },
  {
   "cell_type": "code",
   "execution_count": 6,
   "id": "b9672de8",
   "metadata": {},
   "outputs": [],
   "source": [
    "#Special Operators"
   ]
  },
  {
   "cell_type": "code",
   "execution_count": 11,
   "id": "6bdf90d1",
   "metadata": {},
   "outputs": [
    {
     "name": "stdout",
     "output_type": "stream",
     "text": [
      "False\n",
      "False\n",
      "False\n"
     ]
    }
   ],
   "source": [
    "x1=5\n",
    "y1=5\n",
    "x2='Hello'\n",
    "y2='Hello'\n",
    "x3=[1,2,3]\n",
    "y3=[1,2,3]\n",
    "print(x1 is not y1)\n",
    "print(y1 is y2)\n",
    "print(x3 is y3)"
   ]
  },
  {
   "cell_type": "code",
   "execution_count": 8,
   "id": "104be737",
   "metadata": {},
   "outputs": [
    {
     "data": {
      "text/plain": [
       "1969612941744"
      ]
     },
     "execution_count": 8,
     "metadata": {},
     "output_type": "execute_result"
    }
   ],
   "source": [
    "id(x1)"
   ]
  },
  {
   "cell_type": "code",
   "execution_count": 12,
   "id": "41e4f8be",
   "metadata": {},
   "outputs": [
    {
     "data": {
      "text/plain": [
       "1969612941744"
      ]
     },
     "execution_count": 12,
     "metadata": {},
     "output_type": "execute_result"
    }
   ],
   "source": [
    "id(y1)"
   ]
  },
  {
   "cell_type": "code",
   "execution_count": 5,
   "id": "137fbe02",
   "metadata": {},
   "outputs": [
    {
     "name": "stdout",
     "output_type": "stream",
     "text": [
      "True\n",
      "False\n",
      "False\n",
      "False\n",
      "False\n"
     ]
    }
   ],
   "source": [
    "Breakup = [\"Dominos\",32,44,\"Pizza Hut\",\"Joeys\"]\n",
    "element = \"Dominos\"\n",
    "for element in Breakup:\n",
    "    if element == \"Dominos\":\n",
    "        print(\"True\")\n",
    "    else:\n",
    "        print(\"False\")"
   ]
  },
  {
   "cell_type": "code",
   "execution_count": null,
   "id": "aac7d1a1",
   "metadata": {},
   "outputs": [],
   "source": []
  }
 ],
 "metadata": {
  "kernelspec": {
   "display_name": "Python 3 (ipykernel)",
   "language": "python",
   "name": "python3"
  },
  "language_info": {
   "codemirror_mode": {
    "name": "ipython",
    "version": 3
   },
   "file_extension": ".py",
   "mimetype": "text/x-python",
   "name": "python",
   "nbconvert_exporter": "python",
   "pygments_lexer": "ipython3",
   "version": "3.9.13"
  }
 },
 "nbformat": 4,
 "nbformat_minor": 5
}
